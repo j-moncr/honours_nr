{
 "cells": [
  {
   "cell_type": "markdown",
   "metadata": {},
   "source": [
    "## Test tensor calculations by calculating schwarzschild symbols"
   ]
  },
  {
   "cell_type": "code",
   "execution_count": 140,
   "metadata": {},
   "outputs": [],
   "source": [
    "# from FANTASY import *\n",
    "import numpy as np\n",
    "import matplotlib.pyplot as plt\n",
    "import sympy as sp"
   ]
  },
  {
   "cell_type": "markdown",
   "metadata": {},
   "source": [
    "#### Modify code to calculate Schwarzschild metric"
   ]
  },
  {
   "cell_type": "code",
   "execution_count": 141,
   "metadata": {},
   "outputs": [],
   "source": [
    "# Copyright (C) 2020 Pierre Christian and Chi-kwan Chan\n",
    "#\n",
    "# This program is free software: you can redistribute it and/or modify\n",
    "# it under the terms of the GNU General Public License as published by\n",
    "# the Free Software Foundation, either version 3 of the License, or\n",
    "# (at your option) any later version.\n",
    "#\n",
    "# This program is distributed in the hope that it will be useful, but\n",
    "# WITHOUT ANY WARRANTY; without even the implied warranty of\n",
    "# MERCHANTABILITY or FITNESS FOR A PARTICULAR PURPOSE.  See the GNU\n",
    "# General Public License for more details.\n",
    "#\n",
    "# You should have received a copy of the GNU General Public License\n",
    "# along with this program.  If not, see <https://www.gnu.org/licenses/>.\n",
    "\n",
    "'''\n",
    "################### USER GUIDE ###################\n",
    "FANTASY is a geodesic integration code for arbitrary metrics with automatic differentiation. Please refer to Christian and Chan, 2021 for details.\n",
    "\n",
    "################### Inputing the Metric ###################\n",
    "Components of the metric are stored in the functions g00, g01, g02, etc that can be found under the heading \"Metric Components\". Each of these take as input a list called Param, which contains the fixed parameters of the metric (e.g., 'M' and 'a' for the Kerr metric in Boyer-Lindquist coordinates) and a list called Coord, which contains the coordinates (e.g., 'r' and 't' for the Kerr metric in Boyer-Lindquist coordinates). In order to set up a metric,\n",
    "Step 1) Write down the fixed parameters in a list\n",
    "Step 2) Write down the coordinates in a list\n",
    "Step 3) Type the metric into the functions under \"Metric Components\".\n",
    "\n",
    "Example: Kerr in Boyer-Lindquist coordinates\n",
    "Step 1) The fixed parameters are listed as [M,a]\n",
    "Step 2) The coordinates are listed as [t,r,theta,phi]\n",
    "Step 3) Type in the metric components, for example, the g11 function becomes:\n",
    "\n",
    "def g11(Param,Coord):\n",
    "    return (Param[1]**2.-2.*Param[0]*Coord[1]+Coord[1]**2.)/(Coord[1]**2.+Param[1]**2.*cos(Coord[2])**2.)\n",
    "\n",
    "Extra step) To make your code more readable, you can redefine variables in place of Param[i] or Coord[i], for example, the g11 function can be rewritten as:\n",
    "def g11(Param,Coord):\n",
    "    M = Param[0]\n",
    "    a = Param[1]\n",
    "    r = Coord[1]\n",
    "    theta = Coord[2]\n",
    "    return (a**2.-2.*M*r+r**2.)/(r**2.+a**2.*cos(theta)**2.)\n",
    "\n",
    "################### A Guide on Choosing omega ###################\n",
    "The parameter omega determines how much the two phase spaces interact with each other. The smaller omega is, the smaller the integration error, but if omega is too small, the equation of motion will become non-integrable. Thus, it is important to find an omega that is appropriate for the problem at hand. The easiest way to choose an omega is through trial and error:\n",
    "\n",
    "Step 1) Start with omega=1; if you are working in geometric/code units in which all relevant factors are ~unity, this is usually already a good choice of omega\n",
    "Step 2) If the trajectory varies wildly with time (this indicates highly chaotic, non-integrable behavior), increase omega and redo integration\n",
    "Step 3) Repeat Step 2) until trajectory converges\n",
    "\n",
    "################### Running the Code ###################\n",
    "To run the code, run the function geodesic_integrator(N,delta,omega,q0,p0,Param,order). N is the number of steps, delta is the timestep, omega is the interaction parameter between the two phase spaces, q0 is a list containing the initial position, p0 is a list containing the initial momentum, Param is a list containing the fixed parameters of the metric (e.g., [M,a] for Kerr metric in Boyer-Lindquist coordinates), and order is the integration order. You can choose either order=2 for a 2nd order scheme or order=4 for a 4th order scheme.\n",
    "\n",
    "################### Reading the Output ###################\n",
    "The output is a numpy array indexed by timestep. For each timestep, the output contains four lists:\n",
    "\n",
    "output[timestep][0] = a list containing the position of the particle at said timestep in the 1st phase space\n",
    "output[timestep][1] = a list containing the momentum of the particle at said timestep in the 1st phase space\n",
    "output[timestep][2] = a list containing the position of the particle at said timestep in the 2nd phase space\n",
    "output[timestep][3] = a list containing the momentum of the particle at said timestep in the 2nd phase space\n",
    "\n",
    "As long as the equation of motion is integrable (see section \"A Guide on Choosing omega\"), the trajectories in the two phase spaces will quickly converge, and you can choose either one as the result of your calculation.\n",
    "\n",
    "################### Automatic Jacobian ###################\n",
    "\n",
    "Input coordinate transformations for the 0th, 1st, 2nd, 3rd coordinate in functions CoordTrans0, CoordTrans1, CoordTrans2, CoordTrans3. As an example, coordinate transformation from Spherical Schwarzschild to Cartesian Schwarzschild has been provided.\n",
    "\n",
    "'''\n",
    "\n",
    "################### Code Preamble ###################\n",
    "\n",
    "from pylab import *\n",
    "from scipy import special\n",
    "import numpy\n",
    "from IPython.display import clear_output, display\n",
    "\n",
    "class dual:\n",
    "  def __init__(self, first, second):\n",
    "    self.f = first\n",
    "    self.s = second\n",
    "\n",
    "  def __mul__(self,other):\n",
    "    if isinstance(other,dual):\n",
    "      return dual(self.f*other.f, self.s*other.f+self.f*other.s)\n",
    "    else:\n",
    "      return dual(self.f*other, self.s*other)\n",
    "\n",
    "  def __rmul__(self,other):\n",
    "    if isinstance(other,dual):\n",
    "      return dual(self.f*other.f, self.s*other.f+self.f*other.s)\n",
    "    else:\n",
    "      return dual(self.f*other, self.s*other)\n",
    "\n",
    "  def __add__(self,other):\n",
    "    if isinstance(other,dual):\n",
    "      return dual(self.f+other.f, self.s+other.s)\n",
    "    else:\n",
    "      return dual(self.f+other,self.s)\n",
    "\n",
    "  def __radd__(self,other):\n",
    "    if isinstance(other,dual):\n",
    "      return dual(self.f+other.f, self.s+other.s)\n",
    "    else:\n",
    "      return dual(self.f+other,self.s)\n",
    "\n",
    "  def __sub__(self,other):\n",
    "    if isinstance(other,dual):\n",
    "      return dual(self.f-other.f, self.s-other.s)\n",
    "    else:\n",
    "      return dual(self.f-other,self.s)\n",
    "\n",
    "  def __rsub__(self, other):\n",
    "    return dual(other, 0) - self\n",
    "\n",
    "  def __truediv__(self,other):\n",
    "    ''' when the first component of the divisor is not 0 '''\n",
    "    if isinstance(other,dual):\n",
    "      return dual(self.f/other.f, (self.s*other.f-self.f*other.s)/(other.f**2.))\n",
    "    else:\n",
    "      return dual(self.f/other, self.s/other)\n",
    "\n",
    "  def __rtruediv__(self, other):\n",
    "    return dual(other, 0).__truediv__(self)\n",
    "\n",
    "  def __neg__(self):\n",
    "      return dual(-self.f, -self.s)\n",
    "\n",
    "  def __pow__(self, power):\n",
    "    return dual(self.f**power,self.s * power * self.f**(power - 1))\n",
    "\n",
    "  def sin(self):\n",
    "    return dual(numpy.sin(self.f),self.s*numpy.cos(self.f))\n",
    "\n",
    "  def cos(self):\n",
    "    return dual(numpy.cos(self.f),-self.s*numpy.sin(self.f))\n",
    "\n",
    "  def tan(self):\n",
    "    return sin(self)/cos(self)\n",
    "\n",
    "  def log(self):\n",
    "    return dual(numpy.log(self.f),self.s/self.f)\n",
    "\n",
    "  def exp(self):\n",
    "    return dual(numpy.exp(self.f),self.s*numpy.exp(self.f))\n",
    "\n",
    "def dif(func,x):\n",
    "    funcdual = func(dual(x,1.))\n",
    "    if isinstance(funcdual,dual):\n",
    "        return func(dual(x,1.)).s\n",
    "    else:\n",
    "        ''' this is for when the function is a constant, e.g. gtt:=0 '''\n",
    "        return 0\n",
    "\n",
    "################### Metric Components ###################\n",
    "\n",
    "# Diagonal components of the metric\n",
    "def g00(Param,Coord):\n",
    "    M = Param[0]\n",
    "    a = Param[1]\n",
    "    r = Coord[1]\n",
    "    theta = Coord[2]\n",
    "    Delta = r**2.-2.*M*r+a**2.\n",
    "    rhosq = r**2.+a**2.*cos(theta)**2.\n",
    "    return -(r**2.+a**2.+2.*M*r*a**2.*sin(theta)**2./rhosq)/Delta\n",
    "def g11(Param,Coord):\n",
    "    M = Param[0]\n",
    "    a = Param[1]\n",
    "    r = Coord[1]\n",
    "    theta = Coord[2]\n",
    "    return (a**2.-2.*M*r+r**2.)/(r**2.+a**2.*cos(theta)**2.)\n",
    "def g22(Param,Coord):\n",
    "    M = Param[0]\n",
    "    a = Param[1]\n",
    "    r = Coord[1]\n",
    "    theta = Coord[2]\n",
    "    return 1./(r**2.+a**2.*cos(theta)**2.)\n",
    "def g33(Param,Coord):\n",
    "    M = Param[0]\n",
    "    a = Param[1]\n",
    "    r = Coord[1]\n",
    "    theta = Coord[2]\n",
    "    Delta = r**2.-2.*M*r+a**2.\n",
    "    rhosq = r**2.+a**2.*cos(theta)**2.\n",
    "    return (1./(Delta*sin(theta)**2.))*(1.-2.*M*r/rhosq)\n",
    "\n",
    "# Off-diagonal components of the metric\n",
    "def g01(Param,Coord):\n",
    "    return 0\n",
    "def g02(Param,Coord):\n",
    "    return 0\n",
    "def g03(Param,Coord):\n",
    "    M = Param[0]\n",
    "    a = Param[1]\n",
    "    r = Coord[1]\n",
    "    theta = Coord[2]\n",
    "    Delta = r**2.-2.*M*r+a**2.\n",
    "    rhosq = r**2.+a**2.*cos(theta)**2.\n",
    "    return -(2.*M*r*a)/(rhosq*Delta)\n",
    "def g12(Param,Coord):\n",
    "    return 0\n",
    "def g13(Param,Coord):\n",
    "    return 0\n",
    "def g23(Param,Coord):\n",
    "    return 0\n",
    "\n",
    "################### Metric Derivatives ###################\n",
    "\n",
    "def dm(Param,Coord,metric,wrt):\n",
    "    ''' wrt = 0,1,2,3 '''\n",
    "    point_d = Coord[wrt]\n",
    "\n",
    "    point_0 = dual(Coord[0],0)\n",
    "    point_1 = dual(Coord[1],0)\n",
    "    point_2 = dual(Coord[2],0)\n",
    "    point_3 = dual(Coord[3],0)\n",
    "\n",
    "    if metric == 'g00':\n",
    "        if wrt == 0:\n",
    "            return dif(lambda p:g00(Param,[p,point_1,point_2,point_3]),point_d)\n",
    "        elif wrt == 1:\n",
    "            return dif(lambda p:g00(Param,[point_0,p,point_2,point_3]),point_d)\n",
    "        elif wrt == 2:\n",
    "            return dif(lambda p:g00(Param,[point_0,point_1,p,point_3]),point_d)\n",
    "        elif wrt == 3:\n",
    "            return dif(lambda p:g00(Param,[point_0,point_1,point_2,p]),point_d)\n",
    "    elif metric == 'g11':\n",
    "        if wrt == 0:\n",
    "            return dif(lambda p:g11(Param,[p,point_1,point_2,point_3]),point_d)\n",
    "        elif wrt == 1:\n",
    "            return dif(lambda p:g11(Param,[point_0,p,point_2,point_3]),point_d)\n",
    "        elif wrt == 2:\n",
    "            return dif(lambda p:g11(Param,[point_0,point_1,p,point_3]),point_d)\n",
    "        elif wrt == 3:\n",
    "            return dif(lambda p:g11(Param,[point_0,point_1,point_2,p]),point_d)\n",
    "    elif metric == 'g22':\n",
    "        if wrt == 0:\n",
    "            return dif(lambda p:g22(Param,[p,point_1,point_2,point_3]),point_d)\n",
    "        elif wrt == 1:\n",
    "            return dif(lambda p:g22(Param,[point_0,p,point_2,point_3]),point_d)\n",
    "        elif wrt == 2:\n",
    "            return dif(lambda p:g22(Param,[point_0,point_1,p,point_3]),point_d)\n",
    "        elif wrt == 3:\n",
    "            return dif(lambda p:g22(Param,[point_0,point_1,point_2,p]),point_d)\n",
    "    elif metric == 'g33':\n",
    "        if wrt == 0:\n",
    "            return dif(lambda p:g33(Param,[p,point_1,point_2,point_3]),point_d)\n",
    "        elif wrt == 1:\n",
    "            return dif(lambda p:g33(Param,[point_0,p,point_2,point_3]),point_d)\n",
    "        elif wrt == 2:\n",
    "            return dif(lambda p:g33(Param,[point_0,point_1,p,point_3]),point_d)\n",
    "        elif wrt == 3:\n",
    "            return dif(lambda p:g33(Param,[point_0,point_1,point_2,p]),point_d)\n",
    "    elif metric == 'g44':\n",
    "        if wrt == 0:\n",
    "            return dif(lambda p:g44(Param,[p,point_1,point_2,point_3]),point_d)\n",
    "        elif wrt == 1:\n",
    "            return dif(lambda p:g44(Param,[point_0,p,point_2,point_3]),point_d)\n",
    "        elif wrt == 2:\n",
    "            return dif(lambda p:g44(Param,[point_0,point_1,p,point_3]),point_d)\n",
    "        elif wrt == 3:\n",
    "            return dif(lambda p:g44(Param,[point_0,point_1,point_2,p]),point_d)\n",
    "    elif metric == 'g01':\n",
    "        if wrt == 0:\n",
    "            return dif(lambda p:g01(Param,[p,point_1,point_2,point_3]),point_d)\n",
    "        elif wrt == 1:\n",
    "            return dif(lambda p:g01(Param,[point_0,p,point_2,point_3]),point_d)\n",
    "        elif wrt == 2:\n",
    "            return dif(lambda p:g01(Param,[point_0,point_1,p,point_3]),point_d)\n",
    "        elif wrt == 3:\n",
    "            return dif(lambda p:g01(Param,[point_0,point_1,point_2,p]),point_d)\n",
    "    elif metric == 'g02':\n",
    "        if wrt == 0:\n",
    "            return dif(lambda p:g02(Param,[p,point_1,point_2,point_3]),point_d)\n",
    "        elif wrt == 1:\n",
    "            return dif(lambda p:g02(Param,[point_0,p,point_2,point_3]),point_d)\n",
    "        elif wrt == 2:\n",
    "            return dif(lambda p:g02(Param,[point_0,point_1,p,point_3]),point_d)\n",
    "        elif wrt == 3:\n",
    "            return dif(lambda p:g02(Param,[point_0,point_1,point_2,p]),point_d)\n",
    "    elif metric == 'g03':\n",
    "        if wrt == 0:\n",
    "            return dif(lambda p:g03(Param,[p,point_1,point_2,point_3]),point_d)\n",
    "        elif wrt == 1:\n",
    "            return dif(lambda p:g03(Param,[point_0,p,point_2,point_3]),point_d)\n",
    "        elif wrt == 2:\n",
    "            return dif(lambda p:g03(Param,[point_0,point_1,p,point_3]),point_d)\n",
    "        elif wrt == 3:\n",
    "            return dif(lambda p:g03(Param,[point_0,point_1,point_2,p]),point_d)\n",
    "    elif metric == 'g12':\n",
    "        if wrt == 0:\n",
    "            return dif(lambda p:g12(Param,[p,point_1,point_2,point_3]),point_d)\n",
    "        elif wrt == 1:\n",
    "            return dif(lambda p:g12(Param,[point_0,p,point_2,point_3]),point_d)\n",
    "        elif wrt == 2:\n",
    "            return dif(lambda p:g12(Param,[point_0,point_1,p,point_3]),point_d)\n",
    "        elif wrt == 3:\n",
    "            return dif(lambda p:g12(Param,[point_0,point_1,point_2,p]),point_d)\n",
    "    elif metric == 'g13':\n",
    "        if wrt == 0:\n",
    "            return dif(lambda p:g13(Param,[p,point_1,point_2,point_3]),point_d)\n",
    "        elif wrt == 1:\n",
    "            return dif(lambda p:g13(Param,[point_0,p,point_2,point_3]),point_d)\n",
    "        elif wrt == 2:\n",
    "            return dif(lambda p:g13(Param,[point_0,point_1,p,point_3]),point_d)\n",
    "        elif wrt == 3:\n",
    "            return dif(lambda p:g13(Param,[point_0,point_1,point_2,p]),point_d)\n",
    "    elif metric == 'g23':\n",
    "        if wrt == 0:\n",
    "            return dif(lambda p:g23(Param,[p,point_1,point_2,point_3]),point_d)\n",
    "        elif wrt == 1:\n",
    "            return dif(lambda p:g23(Param,[point_0,p,point_2,point_3]),point_d)\n",
    "        elif wrt == 2:\n",
    "            return dif(lambda p:g23(Param,[point_0,point_1,p,point_3]),point_d)\n",
    "        elif wrt == 3:\n",
    "            return dif(lambda p:g23(Param,[point_0,point_1,point_2,p]),point_d)\n",
    "\n",
    "################### Automatic Coordinate Transformation ###################\n",
    "\n",
    "def CoordTrans0(Param, Coord):\n",
    "\n",
    "    M = Param[0]\n",
    "    a = Param[1]\n",
    "    t = Coord[0]\n",
    "    \n",
    "    return t\n",
    "        \n",
    "def CoordTrans1(Param, Coord):\n",
    "\n",
    "    M = Param[0]\n",
    "    a = Param[1]\n",
    "    r = Coord[1]\n",
    "    theta = Coord[2]\n",
    "    phi = Coord[3]\n",
    "    \n",
    "    x = r*sin(theta)*cos(phi)\n",
    "\n",
    "    return x\n",
    "\n",
    "def CoordTrans2(Param, Coord):\n",
    "\n",
    "    M = Param[0]\n",
    "    a = Param[1]\n",
    "    r = Coord[1]\n",
    "    theta = Coord[2]\n",
    "    phi = Coord[3]\n",
    "    \n",
    "    y = r*sin(theta)*sin(phi)\n",
    "\n",
    "    return y\n",
    "\n",
    "def CoordTrans3(Param, Coord):\n",
    "\n",
    "    M = Param[0]\n",
    "    a = Param[1]\n",
    "    r = Coord[1]\n",
    "    theta = Coord[2]\n",
    "    \n",
    "    z = r*cos(theta)\n",
    "\n",
    "    return z\n",
    "\n",
    "def AutoJacob(Param,Coord,i,wrt):\n",
    "    \n",
    "    point_d = Coord[wrt]\n",
    "\n",
    "    point_0 = dual(Coord[0],0)\n",
    "    point_1 = dual(Coord[1],0)\n",
    "    point_2 = dual(Coord[2],0)\n",
    "    point_3 = dual(Coord[3],0)\n",
    "\n",
    "    if i == 0:\n",
    "        if wrt == 0:\n",
    "            return dif(lambda p:CoordTrans0(Param,[p,point_1,point_2,point_3]),point_d)\n",
    "        elif wrt == 1:\n",
    "            return dif(lambda p:CoordTrans0(Param,[point_0,p,point_2,point_3]),point_d)\n",
    "        elif wrt == 2:\n",
    "            return dif(lambda p:CoordTrans0(Param,[point_0,point_1,p,point_3]),point_d)\n",
    "        elif wrt == 3:\n",
    "            return dif(lambda p:CoordTrans0(Param,[point_0,point_1,point_2,p]),point_d)\n",
    "\n",
    "    if i == 1:\n",
    "        if wrt == 0:\n",
    "            return dif(lambda p:CoordTrans1(Param,[p,point_1,point_2,point_3]),point_d)\n",
    "        elif wrt == 1:\n",
    "            return dif(lambda p:CoordTrans1(Param,[point_0,p,point_2,point_3]),point_d)\n",
    "        elif wrt == 2:\n",
    "            return dif(lambda p:CoordTrans1(Param,[point_0,point_1,p,point_3]),point_d)\n",
    "        elif wrt == 3:\n",
    "            return dif(lambda p:CoordTrans1(Param,[point_0,point_1,point_2,p]),point_d)\n",
    "\n",
    "    if i == 2:\n",
    "        if wrt == 0:\n",
    "            return dif(lambda p:CoordTrans2(Param,[p,point_1,point_2,point_3]),point_d)\n",
    "        elif wrt == 1:\n",
    "            return dif(lambda p:CoordTrans2(Param,[point_0,p,point_2,point_3]),point_d)\n",
    "        elif wrt == 2:\n",
    "            return dif(lambda p:CoordTrans2(Param,[point_0,point_1,p,point_3]),point_d)\n",
    "        elif wrt == 3:\n",
    "            return dif(lambda p:CoordTrans2(Param,[point_0,point_1,point_2,p]),point_d)\n",
    "\n",
    "    if i == 3:\n",
    "        if wrt == 0:\n",
    "            return dif(lambda p:CoordTrans3(Param,[p,point_1,point_2,point_3]),point_d)\n",
    "        elif wrt == 1:\n",
    "            return dif(lambda p:CoordTrans3(Param,[point_0,p,point_2,point_3]),point_d)\n",
    "        elif wrt == 2:\n",
    "            return dif(lambda p:CoordTrans3(Param,[point_0,point_1,p,point_3]),point_d)\n",
    "        elif wrt == 3:\n",
    "            return dif(lambda p:CoordTrans3(Param,[point_0,point_1,point_2,p]),point_d)\n",
    "    \n",
    "        \n",
    "################### Integrator ###################\n",
    "\n",
    "def Hamil_inside(q,p,Param,wrt):\n",
    "    return p[0]*p[0]*dm(Param,q,'g00',wrt) +  p[1]*p[1]*dm(Param,q,'g11',wrt) +  p[2]*p[2]*dm(Param,q,'g22',wrt) +  p[3]*p[3]*dm(Param,q,'g33',wrt) +  2*p[0]*p[1]*dm(Param,q,'g01',wrt) +  2*p[0]*p[2]*dm(Param,q,'g02',wrt) + 2*p[0]*p[3]*dm(Param,q,'g03',wrt) +  2*p[1]*p[2]*dm(Param,q,'g12',wrt) +  2*p[1]*p[3]*dm(Param,q,'g13',wrt) + 2*p[2]*p[3]*dm(Param,q,'g23',wrt)\n",
    "\n",
    "def phiHA(delta,omega,q1,p1,q2,p2,Param):\n",
    "    ''' q1=(t1,r1,theta1,phi1), p1=(pt1,pr1,ptheta1,pphi1), q2=(t2,r2,theta2,phi2), p2=(pt2,pr2,ptheta2,pphi2) '''\n",
    "    dq1H_p1_0 = 0.5*(Hamil_inside(q1,p2,Param,0))\n",
    "    dq1H_p1_1 = 0.5*(Hamil_inside(q1,p2,Param,1))\n",
    "    dq1H_p1_2 =  0.5*(Hamil_inside(q1,p2,Param,2))\n",
    "    dq1H_p1_3 =  0.5*(Hamil_inside(q1,p2,Param,3))\n",
    "\n",
    "    p1_update_array = numpy.array([dq1H_p1_0,dq1H_p1_1,dq1H_p1_2,dq1H_p1_3])\n",
    "    p1_updated = p1 - delta*p1_update_array\n",
    "\n",
    "    dp2H_q2_0 = g00(Param,q1)*p2[0] + g01(Param,q1)*p2[1] + g02(Param,q1)*p2[2] + g03(Param,q1)*p2[3]\n",
    "    dp2H_q2_1 = g01(Param,q1)*p2[0] + g11(Param,q1)*p2[1] + g12(Param,q1)*p2[2] + g13(Param,q1)*p2[3]\n",
    "    dp2H_q2_2 = g02(Param,q1)*p2[0] + g12(Param,q1)*p2[1] + g22(Param,q1)*p2[2] + g23(Param,q1)*p2[3]\n",
    "    dp2H_q2_3 = g03(Param,q1)*p2[0] + g13(Param,q1)*p2[1] + g23(Param,q1)*p2[2] + g33(Param,q1)*p2[3]\n",
    "\n",
    "    q2_update_array = numpy.array([dp2H_q2_0,dp2H_q2_1,dp2H_q2_2,dp2H_q2_3])\n",
    "    q2_updated = q2 + delta*q2_update_array\n",
    "\n",
    "    return (q2_updated, p1_updated)\n",
    "\n",
    "def phiHB(delta,omega,q1,p1,q2,p2,Param):\n",
    "    ''' q1=(t1,r1,theta1,phi1), p1=(pt1,pr1,ptheta1,pphi1), q2=(t2,r2,theta2,phi2), p2=(pt2,pr2,ptheta2,pphi2) '''\n",
    "    dq2H_p2_0 = 0.5*(Hamil_inside(q2,p1,Param,0))\n",
    "    dq2H_p2_1 = 0.5*(Hamil_inside(q2,p1,Param,1))\n",
    "    dq2H_p2_2 =  0.5*(Hamil_inside(q2,p1,Param,2))\n",
    "    dq2H_p2_3 =  0.5*(Hamil_inside(q2,p1,Param,3))\n",
    "\n",
    "    p2_update_array = numpy.array([dq2H_p2_0,dq2H_p2_1,dq2H_p2_2,dq2H_p2_3])\n",
    "    p2_updated = p2 - delta*p2_update_array\n",
    "\n",
    "    dp1H_q1_0 = g00(Param,q2)*p1[0] + g01(Param,q2)*p1[1] + g02(Param,q2)*p1[2] + g03(Param,q2)*p1[3]\n",
    "    dp1H_q1_1 = g01(Param,q2)*p1[0] + g11(Param,q2)*p1[1] + g12(Param,q2)*p1[2] + g13(Param,q2)*p1[3]\n",
    "    dp1H_q1_2 = g02(Param,q2)*p1[0] + g12(Param,q2)*p1[1] + g22(Param,q2)*p1[2] + g23(Param,q2)*p1[3]\n",
    "    dp1H_q1_3 = g03(Param,q2)*p1[0] + g13(Param,q2)*p1[1] + g23(Param,q2)*p1[2] + g33(Param,q2)*p1[3]\n",
    "\n",
    "    q1_update_array = numpy.array([dp1H_q1_0,dp1H_q1_1,dp1H_q1_2,dp1H_q1_3])\n",
    "    q1_updated = q1 + delta*q1_update_array\n",
    "\n",
    "    return (q1_updated, p2_updated)\n",
    "\n",
    "def phiHC(delta,omega,q1,p1,q2,p2,Param):\n",
    "    q1 = numpy.array(q1)\n",
    "    q2 = numpy.array(q2)\n",
    "    p1 = numpy.array(p1)\n",
    "    p2 = numpy.array(p2)\n",
    "\n",
    "    q1_updated = 0.5*( q1+q2 + (q1-q2)*numpy.cos(2.*omega*delta) + (p1-p2)*numpy.sin(2.*omega*delta) )\n",
    "    p1_updated = 0.5*( p1+p2 + (p1-p2)*numpy.cos(2.*omega*delta) - (q1-q2)*numpy.sin(2.*omega*delta) )\n",
    "\n",
    "    q2_updated = 0.5*( q1+q2 - (q1-q2)*numpy.cos(2.*omega*delta) - (p1-p2)*numpy.sin(2.*omega*delta) )\n",
    "    p2_updated = 0.5*( p1+p2 - (p1-p2)*numpy.cos(2.*omega*delta) + (q1-q2)*numpy.sin(2.*omega*delta) )\n",
    "\n",
    "    return (q1_updated, p1_updated, q2_updated, p2_updated)\n",
    "\n",
    "def updator(delta,omega,q1,p1,q2,p2,Param):\n",
    "    first_HA_step = numpy.array([q1, phiHA(0.5*delta,omega,q1,p1,q2,p2,Param)[1], phiHA(0.5*delta,omega,q1,p1,q2,p2,Param)[0], p2])\n",
    "    first_HB_step = numpy.array([phiHB(0.5*delta,omega,first_HA_step[0],first_HA_step[1],first_HA_step[2],first_HA_step[3],Param)[0], first_HA_step[1], first_HA_step[2], phiHB(0.5*delta,omega,first_HA_step[0],first_HA_step[1],first_HA_step[2],first_HA_step[3],Param)[1]])\n",
    "    HC_step = phiHC(delta,omega,first_HB_step[0],first_HB_step[1],first_HB_step[2],first_HB_step[3],Param)\n",
    "    second_HB_step = numpy.array([phiHB(0.5*delta,omega,HC_step[0],HC_step[1],HC_step[2],HC_step[3],Param)[0], HC_step[1], HC_step[2], phiHB(0.5*delta,omega,HC_step[0],HC_step[1],HC_step[2],HC_step[3],Param)[1]])\n",
    "    second_HA_step = numpy.array([second_HB_step[0], phiHA(0.5*delta,omega,second_HB_step[0],second_HB_step[1],second_HB_step[2],second_HB_step[3],Param)[1], phiHA(0.5*delta,omega,second_HB_step[0],second_HB_step[1],second_HB_step[2],second_HB_step[3],Param)[0], second_HB_step[3]])\n",
    "\n",
    "    return second_HA_step\n",
    "\n",
    "def updator_4(delta,omega,q1,p1,q2,p2,Param):\n",
    "    z14 = 1.3512071919596578\n",
    "    z04 = -1.7024143839193155\n",
    "    step1 = updator(delta*z14,omega,q1,p1,q2,p2,Param)\n",
    "    step2 = updator(delta*z04,omega,step1[0],step1[1],step1[2],step1[3],Param)\n",
    "    step3 = updator(delta*z14,omega,step2[0],step2[1],step2[2],step2[3],Param)\n",
    "\n",
    "    return step3\n",
    "\n",
    "def geodesic_integrator(N,delta,omega,q0,p0,Param,order=2):\n",
    "    q1=q0\n",
    "    q2=q0\n",
    "    p1=p0\n",
    "    p2=p0\n",
    "\n",
    "    result_list = [[q1,p1,q2,p2]]\n",
    "    result = (q1,p1,q2,p2)\n",
    "\n",
    "    for count, timestep in enumerate(range(N)):\n",
    "        if order == 2:\n",
    "            updated_array = updator(delta,omega,result[0],result[1],result[2],result[3],Param)\n",
    "        elif order == 4:\n",
    "            updated_array = updator_4(delta,omega,result[0],result[1],result[2],result[3],Param)\n",
    "\n",
    "        result = updated_array\n",
    "        result_list += [result]\n",
    "        \n",
    "        if not count%1000:\n",
    "            clear_output(wait=True)\n",
    "            display('On iteration number '+str(count) + ' with delta ' + str(delta))\n",
    "        \n",
    "\n",
    "\n",
    "    return result_list"
   ]
  },
  {
   "cell_type": "markdown",
   "metadata": {},
   "source": [
    "#### Run simulation"
   ]
  },
  {
   "cell_type": "code",
   "execution_count": 142,
   "metadata": {},
   "outputs": [
    {
     "data": {
      "text/plain": [
       "'On iteration number 0 with delta 0.0001'"
      ]
     },
     "metadata": {},
     "output_type": "display_data"
    },
    {
     "data": {
      "image/png": "[encoded data removed]",
      "text/plain": [
       "<Figure size 432x288 with 1 Axes>"
      ]
     },
     "metadata": {
      "needs_background": "light"
     },
     "output_type": "display_data"
    }
   ],
   "source": [
    "N = 1000\n",
    "delta = 1e-4\n",
    "omega = 1\n",
    "q0 = [0,10,pi/2,0]\n",
    "p0 = [1,-1,1,0]\n",
    "Param = [1.0,0.0]\n",
    "order = 2\n",
    "\n",
    "sol = geodesic_integrator(N,delta,omega,q0,p0,Param,order)\n",
    "\n",
    "# Get the position and momentum of the particle in the first phase space\n",
    "sol = np.array(sol[1:])\n",
    "qs = sol[:,0,:]\n",
    "ps = sol[:,1,:]\n",
    "\n",
    "ts, rs, thetas, phis = qs[:,0], qs[:,1], qs[:,2], qs[:,3]\n",
    "\n",
    "plt.plot(qs[:,0],qs[:,1])\n",
    "plt.xlabel(\"t\")\n",
    "plt.ylabel(\"r\")\n",
    "\n",
    "plt.show()"
   ]
  },
  {
   "cell_type": "markdown",
   "metadata": {},
   "source": [
    "### Functions to calculate tensors"
   ]
  },
  {
   "cell_type": "code",
   "execution_count": 143,
   "metadata": {},
   "outputs": [],
   "source": [
    "def metric_tensor():\n",
    "    \n",
    "    M, a = sp.symbols('M a', real=True)\n",
    "    t, r, theta, phi = sp.symbols('t r theta phi', real=True)\n",
    "    # r = sp.Function('r', real=True)(t)\n",
    "    # theta = sp.Function('theta', real=True)(t)\n",
    "    # phi = sp.Function('phi', real=True)(t)\n",
    "\n",
    "    # Metric components of Kerr black hole\n",
    "    \n",
    "    Sigma = r**2 + a**2 * sp.cos(theta)**2\n",
    "    Delta = r**2 - 2*M*r + a**2\n",
    "    \n",
    "    # There is an issue with the bellow kerr metric somewhere, gamma[1,2,2] is wrong, so likely sign error or something\n",
    "    # g01, g02, g10, g12, g13, g20, g21, g23, g31, g32 = 0, 0, 0, 0, 0, 0, 0, 0, 0, 0\n",
    "    # g00 = -(1 - 2*M*r/Sigma)\n",
    "    # g11 = Sigma / Delta\n",
    "    # g22 = Sigma / Delta\n",
    "    # g33 = (r**2 + a**2 + 2*M*r*a**2 * sp.sin(theta)**2 / Sigma) * sp.sin(theta)**2\n",
    "    # g03 = -2*M*r*a*sp.sin(theta)**2 / Sigma\n",
    "    # g30 = g03\n",
    "    \n",
    "    # Use Schwarzschild metric for now\n",
    "    g00 = -(1-2*M/r)\n",
    "    g11 = 1/(1-2*M/r)\n",
    "    g22 = r**2\n",
    "    g33 = r**2 * sp.sin(theta)**2\n",
    "    g01 = g02 = g03 = g10 = g12 = g13 = g20 = g21 = g23 = g30 = g31 = g32 = 0\n",
    "\n",
    "    # Full metric\n",
    "    g_metric = sp.Matrix([\n",
    "        [g00, g01, g02, g03],\n",
    "        [g10, g11, g12, g13],\n",
    "        [g20, g21, g22, g23],\n",
    "        [g30, g31, g32, g33]\n",
    "    ])\n",
    "    \n",
    "    return g_metric\n",
    "\n",
    "def calc_metric_derivs(g_metric, coords):\n",
    "    M, a = sp.symbols('M a', real=True)\n",
    "    t, r, theta, phi = sp.symbols('t r theta phi', real=True)\n",
    "    coords = [t, r, theta, phi]\n",
    "    N = len(coords)\n",
    "    \n",
    "    # g_derivs = sp.MutableDenseNDimArray(np.zeros((N, N, N)))\n",
    "    g_derivs = [[[0 for k in range(N)] for j in range(N)] for i in range(N)]\n",
    "    for i in range(N):\n",
    "        for j in range(N):\n",
    "            for k in range(N):\n",
    "                g_derivs[i][j][k] = g_metric[i,j].diff(coords[k])\n",
    "    return g_derivs\n",
    "\n",
    "def compute_christoffel_Kerr(M_val, a_val, t_val, r_val, theta_val, phi_val):\n",
    "\n",
    "    M, a = sp.symbols('M a', real=True)\n",
    "    t, r, theta, phi = sp.symbols('t r theta phi', real=True)\n",
    "    coords = [t, r, theta, phi]\n",
    "    N = len(coords)\n",
    "    \n",
    "    g_metric = metric_tensor()\n",
    "    g_derivs = calc_metric_derivs(g_metric, coords)\n",
    "\n",
    "    # Specify the modules to be used in lambdify\n",
    "    modules = [{\"cos\": np.cos, \"sin\": np.sin}, \"numpy\"]\n",
    "\n",
    "    # Make metric and metric partial derivatives callable as a numerical function\n",
    "    g_numeric = sp.lambdify((M, a, t, r, theta, phi), g_metric, \"numpy\")\n",
    "    g_num = np.array(g_numeric(M_val, a_val, t_val, r_val, theta_val, phi_val))\n",
    "    g_derivs_numeric = sp.lambdify((M, a, t, r, theta, phi), g_derivs, \"numpy\")\n",
    "    g_derivs_num = np.array(g_derivs_numeric(M_val, a_val, t_val, r_val, theta_val, phi_val))\n",
    "    \n",
    "    # Numerically compute the inverse of the evaluated metric tensor\n",
    "    g_inv_num = np.linalg.inv(g_num)\n",
    "    \n",
    "    # Compute the Christoffel symbols using the numerical inverse metric\n",
    "    Gamma_num = np.zeros((N, N, N))\n",
    "    for i in range(4):\n",
    "        for j in range(4):\n",
    "            for k in range(4):\n",
    "                if j <= k:  # Use the symmetry of the Christoffel symbols\n",
    "                    Gamma_num[i, j, k] = 0.5 * sum([g_inv_num[i, l] * \n",
    "                                                   (g_derivs_num[l, j, k] + \n",
    "                                                    g_derivs_num[l, k, j] -\n",
    "                                                    g_derivs_num[j, k, l]) for l in range(4)])\n",
    "                    Gamma_num[i, k, j] = Gamma_num[i, j, k]\n",
    "                    \n",
    "    return Gamma_num\n"
   ]
  },
  {
   "cell_type": "code",
   "execution_count": 229,
   "metadata": {},
   "outputs": [],
   "source": [
    "def compute_partial_christoffel(M_val, a_val, t_val, r_val, theta_val, phi_val, delta=1e-3):\n",
    "\n",
    "    \n",
    "    # Store the parameters in a list for easier access\n",
    "    params = [M_val, a_val, t_val, r_val, theta_val, phi_val]\n",
    "    # coords = [t_val, x_val, y_val, z_val], t_val has index 0 in params, x_val has index 5 in params etc.\n",
    "    coord_index = [2, 3, 4, 5]  # The indices of the coordinates in the params list\n",
    "    index_map = {2: 0, 3: 1, 4: 2, 5: 3}  # Map the coordinate index to the index of the partial derivative\n",
    "    \n",
    "    # Calculate the base Christoffel symbols\n",
    "    base_Gamma = compute_christoffel_Kerr(*params)\n",
    "    \n",
    "    # Initialize the array to store the derivatives\n",
    "    partials = np.zeros((4, 4, 4, 4))\n",
    "    \n",
    "    # Loop over the parameters and compute the Christoffel symbols for a small perturbation in each parameter\n",
    "    for i, param in enumerate(params):\n",
    "        # Create a copy of the parameters and perturb the i-th parameter, if it is a coordinate\n",
    "        if i in coord_index:\n",
    "            # Use two point finite difference scheme for coordinates\n",
    "            perturbed_params_adv = params.copy()  # Perturbed parameters for forward difference\n",
    "            perturbed_params_ret = params.copy()  # Perturbed parameters for backward difference\n",
    "            perturbed_params_adv[i] += delta\n",
    "            perturbed_params_ret[i] -= delta\n",
    "            \n",
    "            # Compute the perturbed Christoffel symbols\n",
    "            perturbed_Gamma_adv = compute_christoffel_Kerr(*perturbed_params_adv)\n",
    "            perturbed_Gamma_ret = compute_christoffel_Kerr(*perturbed_params_ret)\n",
    "            \n",
    "            # Compute the partial derivative using two stencil finite difference scheme - O(h**2)\n",
    "            partials[:, :, :, index_map[i]] = (perturbed_Gamma_adv - perturbed_Gamma_ret) / (2*delta)\n",
    "        \n",
    "    return partials\n",
    "  \n",
    "def compute_riemann_tensor(gammas, partial_gammas, g_inv):\n",
    "\n",
    "    riemann = np.zeros((4, 4, 4, 4))\n",
    "    for alpha in range(4):\n",
    "      for beta in range(4):\n",
    "          for gamma in range(4):\n",
    "              for delta in range(4):\n",
    "                  riemann[alpha, beta, gamma, delta] = (\n",
    "                      partial_gammas[alpha, beta, delta, gamma] - \n",
    "                      partial_gammas[alpha, beta, gamma, delta]\n",
    "                  )\n",
    "                  \n",
    "                  for nu in range(4):\n",
    "                      riemann[alpha, beta, gamma, delta] += (\n",
    "                          gammas[nu, beta, delta] * gammas[alpha, nu, gamma] -\n",
    "                          gammas[nu, beta, gamma] * gammas[alpha, nu, delta]\n",
    "                      )\n",
    "    \n",
    "    return riemann\n",
    "\n",
    "def compute_ricci_tensor(riemann):\n",
    "    # ricci = np.zeros((4, 4))\n",
    "    # for mu in range(4):\n",
    "    #     for nu in range(4):\n",
    "    #         ricci[mu, nu] = sum([riemann[alpha, mu, alpha, nu] for alpha in range(4)])\n",
    "    \n",
    "    return np.einsum('rarb->ab', riemann)\n",
    "\n",
    "def compute_ricci_scalar(ricci_tensor, g_inv):\n",
    "\n",
    "    return np.einsum('ab,ab', g_inv, ricci_tensor)\n",
    "\n",
    "def compute_kretschmann(riemann_tensor, g_inv):\n",
    "    # Riemann = R^a_{bcd}, K = R^{abcd}R_{abcd} = R^a_{bcd}R_a^{bcd} = R^a_{bcd} g_{ae} g^{bf} g^{cg} g^{dh} R^e_{fgh}\n",
    "    g_metric = np.linalg.inv(g_inv)\n",
    "    return np.einsum('abcd,ae,bf,cg,dh,efgh', riemann_tensor, g_metric, g_inv, g_inv, g_inv, riemann_tensor)\n",
    "\n",
    "def compute_landau_lifshitz(Gamma, g_inv, delta=1e-5):\n",
    "    \"\"\"\n",
    "    Compute the Landau-Lifshitz pseudotensor using the affine formulation.\n",
    "    \n",
    "    Parameters:\n",
    "    - Gamma: Christoffel symbols.\n",
    "    - g_inv: Inverse metric tensor.\n",
    "    \n",
    "    Returns:\n",
    "    - A 4x4 numpy array corresponding to the Landau-Lifshitz pseudotensor.\n",
    "    \"\"\"\n",
    "    \n",
    "    t = np.zeros((4, 4))\n",
    "    \n",
    "    for i in range(4):\n",
    "        for k in range(4):\n",
    "            for l in range(4):\n",
    "                for m in range(4):\n",
    "                    for n in range(4):\n",
    "                        for p in range(4):\n",
    "                            t[i, k] += ((g_inv[i, l] * g_inv[k, m] - g_inv[i,k] * g_inv[l,m])* (2 * Gamma[n, l, m] * Gamma[p, n, p] - Gamma[n, l, p] * Gamma[p, m, n] - Gamma[n, l, n] * Gamma[p, m, p]) +\n",
    "                                        g_inv[i, l] * g_inv[m, n] * (Gamma[k, l, p] * Gamma[p, m, n] + Gamma[k, m, n] * Gamma[p, l, p] - Gamma[k, n, p] * Gamma[p, l, m] - Gamma[k, l, m] * Gamma[p, n, p]) +\n",
    "                                        g_inv[k, l] * g_inv[m, n] * (Gamma[i, l, p] * Gamma[p, m, n] + Gamma[i, m, n] * Gamma[p, l, p] - Gamma[i, n, p] * Gamma[p, l, m] - Gamma[i, l, m] * Gamma[p, n, p]) +\n",
    "                                        g_inv[l, m] * g_inv[n, p] * (Gamma[i, l, n] * Gamma[k, m, p] - Gamma[i, l, m] * Gamma[k, n, p]))\n",
    "    \n",
    "    # g_metric = np.linalg.inv(g_inv)\n",
    "    # g = np.linalg.det(g_metric)\n",
    "    \n",
    "    # t = -g * (np.einsum('mn,ab->mnab', g_inv, g_inv) - np.einsum('ma,nb->mnab', g_inv, g_inv))\n",
    "    \n",
    "    # t *= 1 / (16 * np.pi * -g)\n",
    "    # term1 = 2*np.einsum('sab,rsr,ma,nb->mn', Gamma, Gamma, g_inv, g_inv) - 2*np.einsum('sab,rsr,mn,ab->mn', Gamma, Gamma, g_inv, g_inv)\n",
    "    # term2 = -np.einsum('sar,rbs,ma,nb->mn', Gamma, Gamma, g_inv, g_inv) + np.einsum('sar,rbs,mn,ab->mn', Gamma, Gamma, g_inv, g_inv)\n",
    "    # term3 = -np.einsum('sas,rbr,ma,nb->mn', Gamma, Gamma, g_inv, g_inv) + np.einsum('sas,rbr,mn,ab->mn', Gamma, Gamma, g_inv, g_inv)\n",
    "    \n",
    "    # term4 = np.einsum('nar,rbs,ma,bs->mn', Gamma, Gamma, g_inv, g_inv)\n",
    "    # term5 = np.einsum('nbs,rar,ma,bs->mn', Gamma, Gamma, g_inv, g_inv)\n",
    "    # term6 = -np.einsum('nsr,rab,ma,bs->mn', Gamma, Gamma, g_inv, g_inv)\n",
    "    # term7 = -np.einsum('nab,rsr,ma,bs->mn', Gamma, Gamma, g_inv, g_inv)\n",
    "    \n",
    "    # term8 = np.einsum('mar,rbs,na,bs->mn', Gamma, Gamma, g_inv, g_inv)\n",
    "    # term9 = np.einsum('mbs,rar,na,bs->mn', Gamma, Gamma, g_inv, g_inv)\n",
    "    # term10 = -np.einsum('msr,rab,na,bs->mn', Gamma, Gamma, g_inv, g_inv)\n",
    "    # term11 = -np.einsum('mab,rsr,na,bs->mn', Gamma, Gamma, g_inv, g_inv)\n",
    "    \n",
    "    # term12 = np.einsum('mas,nbr,ab,sr->mn', Gamma, Gamma, g_inv, g_inv) - np.einsum('mab,nsr,ab,sr->mn', Gamma, Gamma, g_inv, g_inv)\n",
    "    \n",
    "    # print(t)\n",
    "    \n",
    "    # print(1 / (16 * np.pi) * (term1 + term2 + term3 + term4 + term5 + term6 + term7 + term8 + term9 + term10 + term11 + term12))\n",
    "    \n",
    "    return t"
   ]
  },
  {
   "cell_type": "code",
   "execution_count": 224,
   "metadata": {},
   "outputs": [],
   "source": [
    "def calculate_tensors(parameters):\n",
    "    \n",
    "    M, a, t, r, theta, phi = sp.symbols('M a t r theta phi', real=True)\n",
    "    coords = [t, r, theta, phi]\n",
    "    \n",
    "    M_val, a_val, t_val, r_val, theta_val, phi_val = parameters\n",
    "    test_values = (M_val, a_val, t_val, r_val, theta_val, phi_val)\n",
    "    \n",
    "    g_metric = metric_tensor()\n",
    "    g_derivs = calc_metric_derivs(g_metric, coords)\n",
    "    # Specify the modules to be used in lambdify\n",
    "    modules = [{\"cos\": np.cos, \"sin\": np.sin}, \"numpy\"]\n",
    "\n",
    "    # Make metric and metric partial derivatives callable as a numerical function\n",
    "    g_numeric = sp.lambdify((M, a, t, r, theta, phi), g_metric, \"numpy\")\n",
    "    g_num = g_numeric(M_val, a_val, t_val, r_val, theta_val, phi_val)\n",
    "    g_derivs_numeric = sp.lambdify((M, a, t, r, theta, phi), g_derivs, \"numpy\")\n",
    "    g_derivs_num = np.array(g_derivs_numeric(M_val, a_val, t_val, r_val, theta_val, phi_val))\n",
    "    \n",
    "    g_metric = g_numeric(*test_values)\n",
    "    g_inv = np.linalg.inv(g_metric)\n",
    "    Gamma = compute_christoffel_Kerr(*test_values)\n",
    "    Gamma_partials = compute_partial_christoffel(*test_values)\n",
    "\n",
    "    riemann_tensor = compute_riemann_tensor(Gamma, Gamma_partials, g_inv)\n",
    "    ricci_tensor = compute_ricci_tensor(riemann_tensor)\n",
    "    ricci_scalar = compute_ricci_scalar(ricci_tensor, g_inv)\n",
    "\n",
    "    K = compute_kretschmann(riemann_tensor, g_inv)\n",
    "    \n",
    "    t = compute_landau_lifshitz(Gamma, g_inv)\n",
    "    \n",
    "    return g_metric, g_inv, Gamma, Gamma_partials, riemann_tensor, ricci_tensor, ricci_scalar, K, t\n",
    "\n",
    "def evaluate_scalars(param_array):\n",
    "    \"\"\"Calculate a list of Kretschmann scalars and Ricci scalars for a given array of parameters.\n",
    "\n",
    "    Args:\n",
    "        param_array (list): List contaning all parameters at each timestep\n",
    "\n",
    "    Returns:\n",
    "        Ks: List of Krechsmann scalars\n",
    "        Rs: List of Ricci scalars\n",
    "    \"\"\"\n",
    "    Ks = []\n",
    "    Rs = []\n",
    "\n",
    "    for i in range(1, len(param_array)):\n",
    "        \n",
    "        m_val, a_val, t_val, r_val, theta_val, phi_val = param_array[i]\n",
    "        test_values = (m_val, a_val, t_val, r_val, theta_val, phi_val)\n",
    "        \n",
    "        g_metric, g_inv, Gamma, Gamma_partials, riemann_tensor, ricci_tensor_test, ricci_scalar_test, K_test = calculate_tensors(test_values)\n",
    "        \n",
    "        Rs.append(ricci_scalar_test)\n",
    "        Ks.append(K_test)\n",
    "    \n",
    "    return Ks, Rs\n",
    "\n",
    "def plot_scalars(param_array, save_fig=False):\n",
    "    Ks, Rs = evaluate_scalars(param_array)\n",
    "    \n",
    "    plt.rcParams[\"figure.figsize\"] = [7.50, 3.50]\n",
    "    plt.rcParams[\"figure.autolayout\"] = True\n",
    "    \n",
    "\n",
    "    data1 = Ks\n",
    "    data2 = Rs\n",
    "    t = np.array(param_array)[1:,0]\n",
    "\n",
    "    fig, ax1 = plt.subplots()\n",
    "    color = 'red'\n",
    "\n",
    "    ax1.set_xlabel('Time')\n",
    "    ax1.set_ylabel('K', color=color)\n",
    "    ax1.plot(t, data1, color=color)\n",
    "    ax1.tick_params(axis='y', labelcolor=color)\n",
    "    ax2 = ax1.twinx()\n",
    "\n",
    "    color = 'blue'\n",
    "    ax2.set_ylabel('R', color=color)\n",
    "    ax2.plot(t, data2, color=color)\n",
    "    ax2.tick_params(axis='y', labelcolor=color)\n",
    "\n",
    "    plt.title(\"Ricci scalar and Kretchsmenn scalar over simulation\")\n",
    "\n",
    "    plt.show()"
   ]
  },
  {
   "cell_type": "markdown",
   "metadata": {},
   "source": [
    "### Test with a given value"
   ]
  },
  {
   "cell_type": "code",
   "execution_count": 227,
   "metadata": {},
   "outputs": [],
   "source": [
    "t_val = 0\n",
    "m_val = 0.5\n",
    "r_val, theta_val, phi_val = 10, np.pi/2, 0\n",
    "a_val = 0\n",
    "test_values = (m_val, a_val, t_val, r_val, theta_val, phi_val)\n",
    "g_metric, g_inv, Gamma, Gamma_partials, riemann_tensor, ricci_tensor_test, ricci_scalar_test, K_test, t_test = calculate_tensors(test_values)"
   ]
  },
  {
   "cell_type": "code",
   "execution_count": 235,
   "metadata": {},
   "outputs": [
    {
     "data": {
      "text/plain": [
       "array([[ -0.9       ,   0.        ,   0.        ,   0.        ],\n",
       "       [  0.        ,   1.11111111,   0.        ,   0.        ],\n",
       "       [  0.        ,   0.        , 100.        ,   0.        ],\n",
       "       [  0.        ,   0.        ,   0.        , 100.        ]])"
      ]
     },
     "execution_count": 235,
     "metadata": {},
     "output_type": "execute_result"
    }
   ],
   "source": [
    "g_metric"
   ]
  },
  {
   "cell_type": "markdown",
   "metadata": {},
   "source": [
    "### Test Gamma coefficients match"
   ]
  },
  {
   "cell_type": "markdown",
   "metadata": {},
   "source": [
    "Compare values with formula for Schwarzschild Christofell symbols"
   ]
  },
  {
   "cell_type": "code",
   "execution_count": 234,
   "metadata": {},
   "outputs": [
    {
     "name": "stdout",
     "output_type": "stream",
     "text": [
      "0.0\n",
      "8.673617379884035e-19\n",
      "0.0\n",
      "0.0\n",
      "0.0\n",
      "0.0\n",
      "0.0\n",
      "0.0\n",
      "0.0\n",
      "Components:\n",
      "0.0045 0.0045\n",
      "-0.005555555555555555 0.005555555555555556\n",
      "-9.0 9.0\n",
      "-9.0 9.0\n",
      "0.005555555555555556 0.005555555555555556\n",
      "0.1 0.1\n",
      "-6.123233995736766e-17 6.123233995736766e-17\n",
      "0.1 0.1\n",
      "6.123233995736766e-17 6.123233995736766e-17\n"
     ]
    }
   ],
   "source": [
    "# Test christoffel symbols against known values\n",
    "print(Gamma[1,0,0] - m_val*(r_val-2*m_val)/r_val**3)\n",
    "print(Gamma[1,1,1] + m_val/(r_val*(r_val-2*m_val)))\n",
    "print(Gamma[1,2,2] + (r_val-2*m_val))   #Error with gamma^r_{\\theta \\theta}\n",
    "print(Gamma[1,3,3] + (r_val-2*m_val)*np.sin(theta_val)**2)\n",
    "print(Gamma[0,1,0] - m_val/(r_val*(r_val-2*m_val)))\n",
    "print(Gamma[2,1,2] - 1/r_val)   #Error with gamma^theta_{\\r \\theta}\n",
    "print(Gamma[2,3,3] + np.sin(theta_val)*np.cos(theta_val))\n",
    "print(Gamma[3,1,3] - 1/r_val)\n",
    "print(Gamma[3,2,3] - np.cos(theta_val)/np.sin(theta_val))\n",
    "\n",
    "\n",
    "print(\"Components:\")\n",
    "print(Gamma[1,0,0], m_val*(r_val-2*m_val)/r_val**3)\n",
    "print(Gamma[1,1,1], m_val/(r_val*(r_val-2*m_val)))\n",
    "print(Gamma[1,2,2], (r_val-2*m_val))   #Error with gamma^r_{\\theta \\theta}\n",
    "print(Gamma[1,3,3], (r_val-2*m_val)*np.sin(theta_val)**2)\n",
    "print(Gamma[0,1,0], m_val/(r_val*(r_val-2*m_val)))\n",
    "print(Gamma[2,1,2], 1/r_val)   #Error with gamma^theta_{\\r \\theta}\n",
    "print(Gamma[2,3,3], np.sin(theta_val)*np.cos(theta_val))\n",
    "print(Gamma[3,1,3], 1/r_val)\n",
    "print(Gamma[3,2,3], np.cos(theta_val)/np.sin(theta_val))\n",
    "\n"
   ]
  },
  {
   "cell_type": "markdown",
   "metadata": {},
   "source": [
    "So Christoffel symbols match"
   ]
  },
  {
   "cell_type": "markdown",
   "metadata": {},
   "source": [
    "### Check partial derivatives of Christoffel symbols"
   ]
  },
  {
   "cell_type": "markdown",
   "metadata": {},
   "source": [
    "See mathematica notebook \"schwarzschild_symbols.nb\""
   ]
  },
  {
   "cell_type": "code",
   "execution_count": 148,
   "metadata": {},
   "outputs": [
    {
     "name": "stdout",
     "output_type": "stream",
     "text": [
      "-0.001172839532379618 -0.0011728395061728395\n",
      "-0.0008500000149994427 -0.00085\n",
      "0.0011728395323804854 0.0011728395061728395\n",
      "-0.9999999999994458 -1\n",
      "-0.9999999999994458 -1.0\n",
      "0.0 -0.01\n",
      "-0.010000000099992523 -0.01\n",
      "-0.010000000099992523 -0.01\n",
      "-0.010000000099992523 -0.01\n",
      "0.0 -1.102182119232618e-15\n",
      "0.9999993333333564 1.0\n",
      "-1.0000003333333563 -1.0\n"
     ]
    }
   ],
   "source": [
    "# Test christoffel partial derivatives\n",
    "\n",
    "print(Gamma_partials[0,0,1,1], 2*m_val*(m_val-r_val)/(r_val**2*(r_val-2*m_val)**2))\n",
    "print(Gamma_partials[1,0,0,1], 2*m_val*(3*m_val-r_val)/(r_val**4))\n",
    "print(Gamma_partials[1,1,1,1], 2*m_val*(-m_val+r_val)/(r_val**2*(r_val-2*m_val)**2))\n",
    "print(Gamma_partials[1,2,2,1], -1)\n",
    "print(Gamma_partials[1,3,3,1], -np.sin(theta_val)**2)\n",
    "\n",
    "print(Gamma_partials[1,2,1,2], -1/r_val**2)\n",
    "print(Gamma_partials[2,2,1,1], -1/r_val**2)\n",
    "print(Gamma_partials[3,1,3,1], -1/r_val**2)\n",
    "print(Gamma_partials[3,3,1,1], -1/r_val**2)\n",
    "\n",
    "print(Gamma_partials[1,3,3,2], (2*m_val-r_val)*np.sin(2*theta_val))\n",
    "print(Gamma_partials[2,3,3,2], -np.cos(2*theta_val))\n",
    "print(Gamma_partials[3,2,3,2], -1/np.sin(theta_val))\n"
   ]
  },
  {
   "cell_type": "markdown",
   "metadata": {},
   "source": [
    "So Gamma partial derivatives match"
   ]
  },
  {
   "cell_type": "markdown",
   "metadata": {},
   "source": [
    "### Check Riemann tensor"
   ]
  },
  {
   "cell_type": "code",
   "execution_count": 149,
   "metadata": {},
   "outputs": [
    {
     "name": "stdout",
     "output_type": "stream",
     "text": [
      "0.0011111111373178894 0.0011111111373178894 0.0011111111111111111\n",
      "-0.05 -0.04999999999944571 -0.05 -0.04999999999944571 -0.05\n",
      "-0.10000033333335623 -0.10000033333335623 -0.1\n"
     ]
    }
   ],
   "source": [
    "# Just check a couple of values\n",
    "print(riemann_tensor[0,1,0,1], -riemann_tensor[0,1,1,0], 2*m_val/(r_val**2*(r_val-2*m_val)))\n",
    "print(riemann_tensor[0,2,0,2], riemann_tensor[1,2,1,2], -riemann_tensor[0,2,2,0], -riemann_tensor[1,2,2,1], -m_val/r_val)\n",
    "print(riemann_tensor[3,2,2,3], -riemann_tensor[3,2,3,2], -2*m_val/r_val)\n"
   ]
  },
  {
   "cell_type": "markdown",
   "metadata": {},
   "source": [
    "Looks pretty good."
   ]
  },
  {
   "cell_type": "markdown",
   "metadata": {},
   "source": [
    "Now, since Schwwarzschild is a solution to Einstein's field equations, the Ricci tensor (and ricci scalar) should have all components zero. Let's check this"
   ]
  },
  {
   "cell_type": "markdown",
   "metadata": {},
   "source": [
    "Largest component is O(10^-7), so there's either a problem with the formula or a fair amount of error."
   ]
  },
  {
   "cell_type": "markdown",
   "metadata": {},
   "source": [
    "##### Let's now check that the Kretchsmen scalar behaves as expected"
   ]
  },
  {
   "cell_type": "code",
   "execution_count": 151,
   "metadata": {},
   "outputs": [
    {
     "name": "stdout",
     "output_type": "stream",
     "text": [
      "1.1999986467792995e-05 1.2e-05\n"
     ]
    }
   ],
   "source": [
    "print(K_test, 48*m_val**2/r_val**6) # Works at a single point, let's check it continues to hold"
   ]
  },
  {
   "cell_type": "code",
   "execution_count": 152,
   "metadata": {},
   "outputs": [
    {
     "data": {
      "text/plain": [
       "'On iteration number 0 with delta 0.01'"
      ]
     },
     "metadata": {},
     "output_type": "display_data"
    },
    {
     "data": {
      "image/png": "[encoded data removed]",
      "text/plain": [
       "<Figure size 432x288 with 1 Axes>"
      ]
     },
     "metadata": {
      "needs_background": "light"
     },
     "output_type": "display_data"
    }
   ],
   "source": [
    "N = 400\n",
    "delta = 1e-2\n",
    "omega = 1\n",
    "q0 = [0,10,np.pi/2,0]\n",
    "p0 = [1,0,0.0,0]\n",
    "Param = [1.0,0.0]\n",
    "order = 4\n",
    "\n",
    "sol = geodesic_integrator(N,delta,omega,q0,p0,Param,order)\n",
    "\n",
    "# Get the position and momentum of the particle in the first phase space\n",
    "sol = np.array(sol[1:])\n",
    "qs = sol[:,0,:]\n",
    "ps = sol[:,1,:]\n",
    "\n",
    "ts, rs, thetas, phis = qs[:,0], qs[:,1], qs[:,2], qs[:,3]\n",
    "\n",
    "plt.plot(qs[:,0],qs[:,1])\n",
    "plt.xlabel(\"t\")\n",
    "plt.ylabel(\"r\")\n",
    "\n",
    "plt.show()"
   ]
  },
  {
   "cell_type": "code",
   "execution_count": 153,
   "metadata": {},
   "outputs": [],
   "source": [
    "Ms = 1\n",
    "spins = 0.0\n",
    "\n",
    "param_storage_new = []\n",
    "\n",
    "for index in range(len(ts)):\n",
    "    t = ts[index]\n",
    "    r = rs[index]\n",
    "    theta = thetas[index]\n",
    "    phi = phis[index]\n",
    "    \n",
    "    params = [Ms, spins, t, r, theta, phi]\n",
    "    \n",
    "    param_storage_new += [params]"
   ]
  },
  {
   "cell_type": "code",
   "execution_count": 154,
   "metadata": {},
   "outputs": [],
   "source": [
    "Ks_new, Rs_new = evaluate_scalars(param_storage_new)"
   ]
  },
  {
   "cell_type": "code",
   "execution_count": 162,
   "metadata": {},
   "outputs": [
    {
     "data": {
      "text/plain": [
       "Text(0.5, 1.0, 'Comparing Kretschmann scalar to known value')"
      ]
     },
     "execution_count": 162,
     "metadata": {},
     "output_type": "execute_result"
    },
    {
     "data": {
      "image/png": "[encoded data removed]",
      "text/plain": [
       "<Figure size 432x288 with 1 Axes>"
      ]
     },
     "metadata": {
      "needs_background": "light"
     },
     "output_type": "display_data"
    }
   ],
   "source": [
    "plt.plot(Ks_new, label=\"K\")\n",
    "plt.plot(48*Ms**2/rs[1::]**6, label=\"Known value of K\")\n",
    "plt.legend()\n",
    "plt.title(\"Comparing Kretschmann scalar to known value\")"
   ]
  },
  {
   "cell_type": "code",
   "execution_count": 170,
   "metadata": {},
   "outputs": [
    {
     "data": {
      "text/plain": [
       "'On iteration number 3000 with delta 0.01'"
      ]
     },
     "metadata": {},
     "output_type": "display_data"
    },
    {
     "data": {
      "image/png": "[encoded data removed]",
      "text/plain": [
       "<Figure size 432x288 with 1 Axes>"
      ]
     },
     "metadata": {
      "needs_background": "light"
     },
     "output_type": "display_data"
    }
   ],
   "source": [
    "N = 3500\n",
    "delta = 1e-2\n",
    "omega = 1\n",
    "q0 = [0,10,np.pi/2,0]\n",
    "p0 = [1,0,0.0,0]\n",
    "Param = [1.0,0.0]\n",
    "order = 2\n",
    "\n",
    "sol = geodesic_integrator(N,delta,omega,q0,p0,Param,order)\n",
    "\n",
    "# Get the position and momentum of the particle in the first phase space\n",
    "sol = np.array(sol[1:])\n",
    "qs = sol[:,0,:]\n",
    "ps = sol[:,1,:]\n",
    "\n",
    "ts, rs, thetas, phis = qs[:,0], qs[:,1], qs[:,2], qs[:,3]\n",
    "\n",
    "plt.plot(qs[:,0],qs[:,1])\n",
    "plt.xlabel(\"t\")\n",
    "plt.ylabel(\"r\")\n",
    "\n",
    "plt.show()"
   ]
  },
  {
   "cell_type": "code",
   "execution_count": 173,
   "metadata": {},
   "outputs": [],
   "source": [
    "Ms = 1\n",
    "spins = 0.0\n",
    "\n",
    "param_storage_new = []\n",
    "\n",
    "for index in range(0,len(ts),100):\n",
    "    t = ts[index]\n",
    "    r = rs[index]\n",
    "    theta = thetas[index]\n",
    "    phi = phis[index]\n",
    "    \n",
    "    params = [Ms, spins, t, r, theta, phi]\n",
    "    \n",
    "    param_storage_new += [params]"
   ]
  },
  {
   "cell_type": "code",
   "execution_count": 174,
   "metadata": {},
   "outputs": [],
   "source": [
    "Ks_new, Rs_new = evaluate_scalars(param_storage_new)"
   ]
  },
  {
   "cell_type": "code",
   "execution_count": 190,
   "metadata": {},
   "outputs": [
    {
     "data": {
      "text/plain": [
       "(3495,)"
      ]
     },
     "execution_count": 190,
     "metadata": {},
     "output_type": "execute_result"
    }
   ],
   "source": [
    "rs[::100].shape"
   ]
  },
  {
   "cell_type": "code",
   "execution_count": 195,
   "metadata": {},
   "outputs": [
    {
     "data": {
      "text/plain": [
       "Text(0.5, 1.0, 'Comparing Kretschmann scalar to known value')"
      ]
     },
     "execution_count": 195,
     "metadata": {},
     "output_type": "execute_result"
    },
    {
     "data": {
      "image/png": "[encoded data removed]",
      "text/plain": [
       "<Figure size 432x288 with 1 Axes>"
      ]
     },
     "metadata": {
      "needs_background": "light"
     },
     "output_type": "display_data"
    }
   ],
   "source": [
    "rs = rs[1:-1000]\n",
    "plt.plot(Ks_new[:-10], label=\"K\")\n",
    "plt.plot(48*Ms**2/rs[::100]**6, label=\"Known value of K\")\n",
    "plt.legend()\n",
    "plt.title(\"Comparing Kretschmann scalar to known value\")"
   ]
  },
  {
   "cell_type": "code",
   "execution_count": 197,
   "metadata": {},
   "outputs": [
    {
     "data": {
      "text/plain": [
       "[<matplotlib.lines.Line2D at 0x2838f8d4520>]"
      ]
     },
     "execution_count": 197,
     "metadata": {},
     "output_type": "execute_result"
    },
    {
     "data": {
      "image/png": "[encoded data removed]",
      "text/plain": [
       "<Figure size 432x288 with 1 Axes>"
      ]
     },
     "metadata": {
      "needs_background": "light"
     },
     "output_type": "display_data"
    }
   ],
   "source": [
    "plt.plot(Rs_new[:], label=\"R\")"
   ]
  },
  {
   "cell_type": "markdown",
   "metadata": {},
   "source": [
    "### Check Landau-Liftschitz pseudo tensor"
   ]
  },
  {
   "cell_type": "code",
   "execution_count": 233,
   "metadata": {},
   "outputs": [
    {
     "name": "stdout",
     "output_type": "stream",
     "text": [
      "-0.0977777777777778 0.09777777777777778\n",
      "-0.017999999999999995 0.018\n",
      "-2.32682891837997e-19 -2.326828918379971e-19 1.1021821192326178e-19\n",
      "0.00019999999999999993 -0.0002\n",
      "0.00019999999999999993 -0.0002\n"
     ]
    }
   ],
   "source": [
    "\n",
    "print(t_test[0,0],2*(5*r_val-12*m_val+r_val/np.tan(theta_val)**2)/(r_val**2 * (r_val-2*m_val)))\n",
    "print(t_test[1,1], -2*(r_val-2*m_val)*(1/np.tan(theta_val)**2 - 1)/r_val**3)\n",
    "print(t_test[1,2], t_test[2,1], 2*(r_val-2*m_val)/(r_val**4 * np.tan(theta_val)))\n",
    "print(t_test[2,2], -2/r_val**4)\n",
    "print(t_test[3,3], -2/(np.sin(theta_val)**2 * r_val**4))"
   ]
  },
  {
   "cell_type": "markdown",
   "metadata": {},
   "source": [
    "Components are all the negatives of the correct answer, except t^{12}=t^{21} which is off. But the compnent is so small it could just be numerical error"
   ]
  },
  {
   "cell_type": "markdown",
   "metadata": {},
   "source": []
  }
 ],
 "metadata": {
  "kernelspec": {
   "display_name": "ISC505",
   "language": "python",
   "name": "python3"
  },
  "language_info": {
   "codemirror_mode": {
    "name": "ipython",
    "version": 3
   },
   "file_extension": ".py",
   "mimetype": "text/x-python",
   "name": "python",
   "nbconvert_exporter": "python",
   "pygments_lexer": "ipython3",
   "version": "3.8.13"
  },
  "orig_nbformat": 4
 },
 "nbformat": 4,
 "nbformat_minor": 2
}
