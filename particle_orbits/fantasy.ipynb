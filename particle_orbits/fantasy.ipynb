{
 "cells": [
  {
   "cell_type": "code",
   "execution_count": 1,
   "metadata": {},
   "outputs": [],
   "source": [
    "from FANTASY import *"
   ]
  },
  {
   "cell_type": "code",
   "execution_count": 8,
   "metadata": {},
   "outputs": [
    {
     "data": {
      "text/plain": [
       "'On iteration number 0 with delta 0.1'"
      ]
     },
     "metadata": {},
     "output_type": "display_data"
    },
    {
     "data": {
      "image/png": "[encoded data removed]",
      "text/plain": [
       "<Figure size 432x288 with 1 Axes>"
      ]
     },
     "metadata": {
      "needs_background": "light"
     },
     "output_type": "display_data"
    }
   ],
   "source": [
    "T = 3000.0\n",
    "delta = 0.1\n",
    "N = int(T*delta)\n",
    "\n",
    "omega = 1\n",
    "q0 = [0,10,pi/2,0]\n",
    "p0 = [1,0,0,0]\n",
    "Param = [1.0,0.0]\n",
    "order = 2\n",
    "\n",
    "sol = geodesic_integrator(N,delta,omega,q0,p0,Param,order)\n",
    "\n",
    "# Get the position and momentum of the particle in the first phase space\n",
    "sol = np.array(sol[1:])\n",
    "qs = sol[:,0,:]\n",
    "ps = sol[:,1,:]\n",
    "\n",
    "plt.plot(qs[:,0],qs[:,1])\n",
    "plt.xlabel(\"t\")\n",
    "plt.ylabel(\"r\")\n",
    "\n",
    "plt.show()"
   ]
  },
  {
   "cell_type": "code",
   "execution_count": 9,
   "metadata": {},
   "outputs": [
    {
     "data": {
      "text/plain": [
       "'On iteration number 0 with delta 0.1'"
      ]
     },
     "metadata": {},
     "output_type": "display_data"
    },
    {
     "data": {
      "image/png": "[encoded data removed]",
      "text/plain": [
       "<Figure size 432x288 with 1 Axes>"
      ]
     },
     "metadata": {
      "needs_background": "light"
     },
     "output_type": "display_data"
    }
   ],
   "source": [
    "T = 3000.0\n",
    "delta = 0.1\n",
    "N = int(T*delta)\n",
    "\n",
    "omega = 1\n",
    "q0 = [0,10,pi/2,0]\n",
    "p0 = [1,0.1,0,0]\n",
    "Param = [1.0,0.0]\n",
    "order = 2\n",
    "\n",
    "sol = geodesic_integrator(N,delta,omega,q0,p0,Param,order)\n",
    "\n",
    "# Get the position and momentum of the particle in the first phase space\n",
    "sol = np.array(sol[1:])\n",
    "qs = sol[:,0,:]\n",
    "ps = sol[:,1,:]\n",
    "\n",
    "plt.plot(qs[:,0],qs[:,1])\n",
    "plt.xlabel(\"t\")\n",
    "plt.ylabel(\"r\")\n",
    "\n",
    "plt.show()"
   ]
  },
  {
   "cell_type": "markdown",
   "metadata": {},
   "source": [
    "## Change metric components"
   ]
  },
  {
   "cell_type": "code",
   "execution_count": 5,
   "metadata": {},
   "outputs": [],
   "source": [
    "################### Metric Components ###################\n",
    "\n",
    "# Diagonal components of the metric\n",
    "def g00(Param,Coord):\n",
    "        \n",
    "    M = Param[0]\n",
    "    a = Param[1]\n",
    "    r = Coord[1]\n",
    "    theta = Coord[2]\n",
    "    Delta = r**2.-2.*M*r+a**2.\n",
    "    rhosq = r**2.+a**2.*cos(theta)**2.\n",
    "    # return -(r**2.+a**2.+2.*M*r*a**2.*sin(theta)**2./rhosq)/Delta\n",
    "    return -1\n",
    "\n",
    "def g11(Param,Coord):\n",
    "    M = Param[0]\n",
    "    a = Param[1]\n",
    "    r = Coord[1]\n",
    "    theta = Coord[2]\n",
    "    # return (a**2.-2.*M*r+r**2.)/(r**2.+a**2.*cos(theta)**2.)\n",
    "    return 1\n",
    "\n",
    "\n",
    "def g22(Param,Coord):\n",
    "    M = Param[0]\n",
    "    a = Param[1]\n",
    "    r = Coord[1]\n",
    "    theta = Coord[2]\n",
    "    # return 1./(r**2.+a**2.*cos(theta)**2.)\n",
    "    return 1\n",
    "    \n",
    "def g33(Param,Coord):\n",
    "    M = Param[0]\n",
    "    a = Param[1]\n",
    "    r = Coord[1]\n",
    "    theta = Coord[2]\n",
    "    Delta = r**2.-2.*M*r+a**2.\n",
    "    rhosq = r**2.+a**2.*cos(theta)**2.\n",
    "    # return (1./(Delta*sin(theta)**2.))*(1.-2.*M*r/rhosq)\n",
    "    return 1\n",
    "\n",
    "# Off-diagonal components of the metric\n",
    "def g01(Param,Coord):\n",
    "    return 0\n",
    "def g02(Param,Coord):\n",
    "    return 0\n",
    "def g03(Param,Coord):\n",
    "    M = Param[0]\n",
    "    a = Param[1]\n",
    "    r = Coord[1]\n",
    "    theta = Coord[2]\n",
    "    Delta = r**2.-2.*M*r+a**2.\n",
    "    rhosq = r**2.+a**2.*cos(theta)**2.\n",
    "    # return -(2.*M*r*a)/(rhosq*Delta)\n",
    "    return 0\n",
    "    \n",
    "def g12(Param,Coord):\n",
    "    return 0\n",
    "def g13(Param,Coord):\n",
    "    return 0\n",
    "def g23(Param,Coord):\n",
    "    return 0\n",
    "\n",
    "from FANTASY import *"
   ]
  },
  {
   "cell_type": "code",
   "execution_count": 6,
   "metadata": {},
   "outputs": [
    {
     "data": {
      "text/plain": [
       "'On iteration number 0 with delta 0.1'"
      ]
     },
     "metadata": {},
     "output_type": "display_data"
    },
    {
     "data": {
      "image/png": "[encoded data removed]",
      "text/plain": [
       "<Figure size 432x288 with 1 Axes>"
      ]
     },
     "metadata": {
      "needs_background": "light"
     },
     "output_type": "display_data"
    }
   ],
   "source": [
    "T = 3000.0\n",
    "delta = 0.1\n",
    "N = int(T*delta)\n",
    "\n",
    "omega = 1\n",
    "q0 = [0,10,pi/2,0]\n",
    "p0 = [1,0,0,0]\n",
    "Param = [1.0,0.0]\n",
    "order = 2\n",
    "\n",
    "sol = geodesic_integrator(N,delta,omega,q0,p0,Param,order)\n",
    "\n",
    "# Get the position and momentum of the particle in the first phase space\n",
    "sol = np.array(sol[1:])\n",
    "qs = sol[:,0,:]\n",
    "ps = sol[:,1,:]\n",
    "\n",
    "plt.plot(qs[:,0],qs[:,1])\n",
    "plt.xlabel(\"t\")\n",
    "plt.ylabel(\"r\")\n",
    "\n",
    "plt.show()"
   ]
  },
  {
   "cell_type": "code",
   "execution_count": null,
   "metadata": {},
   "outputs": [],
   "source": []
  }
 ],
 "metadata": {
  "kernelspec": {
   "display_name": "ISC505",
   "language": "python",
   "name": "python3"
  },
  "language_info": {
   "codemirror_mode": {
    "name": "ipython",
    "version": 3
   },
   "file_extension": ".py",
   "mimetype": "text/x-python",
   "name": "python",
   "nbconvert_exporter": "python",
   "pygments_lexer": "ipython3",
   "version": "3.8.13"
  },
  "orig_nbformat": 4
 },
 "nbformat": 4,
 "nbformat_minor": 2
}
