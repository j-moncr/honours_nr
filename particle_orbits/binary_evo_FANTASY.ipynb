{
 "cells": [
  {
   "cell_type": "markdown",
   "metadata": {},
   "source": [
    "## Solve geodesic equation given a metric, using FANTASY code"
   ]
  },
  {
   "cell_type": "markdown",
   "metadata": {},
   "source": [
    "In this notebook I will be solving the geodesic equation for a given metric using a modified verison of the FANTASY code"
   ]
  },
  {
   "cell_type": "markdown",
   "metadata": {},
   "source": [
    "### Imports"
   ]
  },
  {
   "cell_type": "code",
   "execution_count": 1,
   "metadata": {},
   "outputs": [],
   "source": [
    "from FANTASY import *\n",
    "\n",
    "import numpy as np\n",
    "import matplotlib.pyplot as plt\n",
    "from scipy.integrate import solve_ivp\n",
    "import sympy as sp\n",
    "\n",
    "from mpl_toolkits.mplot3d import Axes3D\n",
    "from matplotlib import animation"
   ]
  },
  {
   "cell_type": "markdown",
   "metadata": {},
   "source": [
    "#### Constants"
   ]
  },
  {
   "cell_type": "code",
   "execution_count": 2,
   "metadata": {},
   "outputs": [],
   "source": [
    "G = c = M = 1\n",
    "a = 0.2"
   ]
  },
  {
   "cell_type": "markdown",
   "metadata": {},
   "source": [
    "## Define the metric"
   ]
  },
  {
   "cell_type": "code",
   "execution_count": 12,
   "metadata": {},
   "outputs": [],
   "source": [
    "def g00(Param,Coord):\n",
    "        \n",
    "    M = Param[0]\n",
    "    a = Param[1]\n",
    "    r = Coord[1]\n",
    "    theta = Coord[2]\n",
    "    Delta = r**2.-2.*M*r+a**2.\n",
    "    rhosq = r**2.+a**2.*cos(theta)**2.\n",
    "    return -(r**2.+a**2.+2.*M*r*a**2.*sin(theta)**2./rhosq)/Delta\n",
    "\n",
    "def g11(Param,Coord):\n",
    "    M = Param[0]\n",
    "    a = Param[1]\n",
    "    r = Coord[1]\n",
    "    theta = Coord[2]\n",
    "    return (a**2.-2.*M*r+r**2.)/(r**2.+a**2.*cos(theta)**2.)\n",
    "\n",
    "\n",
    "def g22(Param,Coord):\n",
    "    M = Param[0]\n",
    "    a = Param[1]\n",
    "    r = Coord[1]\n",
    "    theta = Coord[2]\n",
    "    return 1./(r**2.+a**2.*cos(theta)**2.)\n",
    "    \n",
    "def g33(Param,Coord):\n",
    "    M = Param[0]\n",
    "    a = Param[1]\n",
    "    r = Coord[1]\n",
    "    theta = Coord[2]\n",
    "    Delta = r**2.-2.*M*r+a**2.\n",
    "    rhosq = r**2.+a**2.*cos(theta)**2.\n",
    "    return (1./(Delta*sin(theta)**2.))*(1.-2.*M*r/rhosq)\n",
    "\n",
    "# Off-diagonal components of the metric\n",
    "def g01(Param,Coord):\n",
    "    return 0\n",
    "\n",
    "def g02(Param,Coord):\n",
    "    return 0\n",
    "\n",
    "def g03(Param,Coord):\n",
    "    M = Param[0]\n",
    "    a = Param[1]\n",
    "    r = Coord[1]\n",
    "    theta = Coord[2]\n",
    "    Delta = r**2.-2.*M*r+a**2.\n",
    "    rhosq = r**2.+a**2.*cos(theta)**2.\n",
    "    return -(2.*M*r*a)/(rhosq*Delta)\n",
    "    \n",
    "def g12(Param,Coord):\n",
    "    return 0\n",
    "\n",
    "def g13(Param,Coord):\n",
    "    return 0\n",
    "\n",
    "def g23(Param,Coord):\n",
    "    return 0\n",
    "\n",
    "\n",
    "# Register the metrics as function in FANTASY\n",
    "metric_list = [\"g00\",\"g01\",\"g02\",\"g03\",\"g11\",\"g12\",\"g13\",\"g22\",\"g23\",\"g33\"]\n",
    "for metric in metric_list:\n",
    "    if metric in globals():\n",
    "        register_function(metric, globals()[metric])\n",
    "    else:\n",
    "        print(f\"No function named {metric} in global scope.\")"
   ]
  },
  {
   "cell_type": "markdown",
   "metadata": {},
   "source": [
    "## Plotting"
   ]
  },
  {
   "cell_type": "code",
   "execution_count": 13,
   "metadata": {},
   "outputs": [],
   "source": [
    "def plot_trajectory(xs, ys, zs, params,title=\"Orbits\", show=True, labels=[\"Kerr\",\"Gravitomagnetism\"]):\n",
    "    # Plot the particle's orbit\n",
    "    fig = plt.figure()\n",
    "    ax = fig.add_subplot(111, projection='3d')\n",
    "    for i in range(len(xs)):\n",
    "        ax.plot(xs[i],ys[i],zs[i], label=labels[i])\n",
    "\n",
    "    # Label axes\n",
    "    ax.set_xlim([-20, 20])\n",
    "    ax.set_ylim([-20, 20])\n",
    "    ax.set_zlim([-20, 20])\n",
    "    ax.set_xlabel('x / Rs')\n",
    "    ax.set_ylabel('y / Rs')\n",
    "    ax.set_zlabel('z / Rs')\n",
    "    ax.legend()\n",
    "    plt.title(title)\n",
    "\n",
    "    # Set false if want to continue working on plot\n",
    "    if show:\n",
    "        plt.show()\n",
    "    else:\n",
    "        return fig, ax\n",
    "\n",
    "# Make animation of trajectory\n",
    "def animate_traj(x, y, z, params, title=\"Kerr orbit\", show=True):\n",
    "    # Plot the particle's orbit\n",
    "    fig = plt.figure()\n",
    "    ax = fig.add_subplot(111, projection='3d')\n",
    "    line,  = ax.plot([],[],[], color='black')\n",
    "\n",
    "    def update_traj(frame, line):\n",
    "        line.set_data(x[:frame],y[:frame])\n",
    "        line.set_3d_properties(z[:frame])\n",
    "\n",
    "        # return lines\n",
    "        return line,\n",
    "\n",
    "    # # Set plot limits and labels\n",
    "    ax.set_xlim([-20, 20])\n",
    "    ax.set_ylim([-20, 20])\n",
    "    ax.set_zlim([-20, 20])\n",
    "    ax.set_xlabel('x /GM/c^2')\n",
    "    ax.set_ylabel('y /GM/c^2')\n",
    "    ax.set_zlabel('z /GM/c^2')\n",
    "    ax.set_title(title)\n",
    "\n",
    "    # Create animation\n",
    "    ani = animation.FuncAnimation(fig, update_traj, len(t), fargs=(line,), blit=True, repeat=True)\n",
    "\n",
    "    if show:\n",
    "        plt.show()\n",
    "\n",
    "    return ani\n"
   ]
  },
  {
   "cell_type": "markdown",
   "metadata": {},
   "source": [
    "## Run the simulation"
   ]
  },
  {
   "cell_type": "code",
   "execution_count": 14,
   "metadata": {},
   "outputs": [
    {
     "data": {
      "text/plain": [
       "'On iteration number 0 with delta 0.01'"
      ]
     },
     "metadata": {},
     "output_type": "display_data"
    }
   ],
   "source": [
    "N = 500\n",
    "delta = 1e-2\n",
    "omega = 1\n",
    "q0 = [0,10,pi/2,np.pi/4]\n",
    "p0 = [1.,0.,0.,0.]\n",
    "Param = [M,a]\n",
    "order = 4\n",
    "\n",
    "sol = geodesic_integrator(N,delta,omega,q0,p0,Param,order)\n",
    "\n",
    "# Get the position and momentum of the particle in the first phase space\n",
    "sol = np.array(sol[1:])\n",
    "qs = sol[:,0,:]\n",
    "ps = sol[:,1,:]"
   ]
  },
  {
   "cell_type": "markdown",
   "metadata": {},
   "source": [
    "## Redo the sim with another metric"
   ]
  },
  {
   "cell_type": "markdown",
   "metadata": {},
   "source": [
    "### Write new metric"
   ]
  },
  {
   "cell_type": "code",
   "execution_count": 15,
   "metadata": {},
   "outputs": [],
   "source": [
    "def phi(Param,Coord):\n",
    "    M = Param[0]\n",
    "    a = Param[1]\n",
    "    r = Coord[1]\n",
    "    theta = Coord[2]\n",
    "    \n",
    "    return - G * M / r\n",
    "\n",
    "def A(Param,Coord):\n",
    "    M = Param[0]\n",
    "    a = Param[1]\n",
    "    r = Coord[1]\n",
    "    theta = Coord[2]\n",
    "    \n",
    "    return G/c * np.array([0., -a * M**2, 0.]) / r**3\n",
    "\n",
    "# Define the metric\n",
    "def g00(Param,Coord):\n",
    "        \n",
    "    M = Param[0]\n",
    "    a = Param[1]\n",
    "    r = Coord[1]\n",
    "    theta = Coord[2]\n",
    "\n",
    "    return -c**2 * (1 - 2 * phi(Param,Coord) / c**2)\n",
    "\n",
    "def g11(Param,Coord):\n",
    "    M = Param[0]\n",
    "    a = Param[1]\n",
    "    r = Coord[1]\n",
    "    theta = Coord[2]\n",
    "    \n",
    "    return 1 + 2 * phi(Param,Coord) / c**2\n",
    "\n",
    "\n",
    "def g22(Param,Coord):\n",
    "    M = Param[0]\n",
    "    a = Param[1]\n",
    "    r = Coord[1]\n",
    "    theta = Coord[2]\n",
    "    \n",
    "    return 1 + 2 * phi(Param,Coord) / c**2\n",
    "    \n",
    "def g33(Param,Coord):\n",
    "    M = Param[0]\n",
    "    a = Param[1]\n",
    "    r = Coord[1]\n",
    "    theta = Coord[2]\n",
    "\n",
    "    return (1 + 2 * phi(Param,Coord) / c**2)\n",
    "\n",
    "# Off-diagonal components of the metric\n",
    "def g01(Param,Coord):\n",
    "    return - 4/c * A(Param,Coord)[0]\n",
    "\n",
    "def g02(Param,Coord):\n",
    "    return -4/c * A(Param,Coord)[1]\n",
    "\n",
    "def g03(Param,Coord):\n",
    "    M = Param[0]\n",
    "    a = Param[1]\n",
    "    r = Coord[1]\n",
    "    theta = Coord[2]\n",
    "\n",
    "    return -4/c * A(Param,Coord)[2]\n",
    "    \n",
    "def g12(Param,Coord):\n",
    "    return 0\n",
    "\n",
    "def g13(Param,Coord):\n",
    "    return 0\n",
    "\n",
    "def g23(Param,Coord):\n",
    "    return 0\n",
    "\n",
    "# Register the metrics as function in FANTASY\n",
    "metric_list = [\"g00\",\"g01\",\"g02\",\"g03\",\"g11\",\"g12\",\"g13\",\"g22\",\"g23\",\"g33\"]\n",
    "for metric in metric_list:\n",
    "    if metric in globals():\n",
    "        register_function(metric, globals()[metric])\n",
    "    else:\n",
    "        print(f\"No function named {metric} in global scope.\")"
   ]
  },
  {
   "cell_type": "markdown",
   "metadata": {},
   "source": [
    "### Run the same simulation"
   ]
  },
  {
   "cell_type": "code",
   "execution_count": 16,
   "metadata": {},
   "outputs": [
    {
     "data": {
      "text/plain": [
       "'On iteration number 0 with delta 0.01'"
      ]
     },
     "metadata": {},
     "output_type": "display_data"
    }
   ],
   "source": [
    "# N = 5000\n",
    "# delta = 1e-2\n",
    "# omega = 1\n",
    "# q0 = [0,30,pi/2,np.pi/4]\n",
    "# p0 = [1,0.,0.0,0.0]\n",
    "# Param = [M,a]\n",
    "# order = 4\n",
    "\n",
    "sol2 = geodesic_integrator(N,delta,omega,q0,p0,Param,order)\n",
    "\n",
    "# Get the position and momentum of the particle in the first phase space\n",
    "sol2 = np.array(sol2[1:])\n",
    "qs2 = sol2[:,0,:]\n",
    "ps2 = sol2[:,1,:]\n"
   ]
  },
  {
   "cell_type": "markdown",
   "metadata": {},
   "source": [
    "## Plot results"
   ]
  },
  {
   "cell_type": "code",
   "execution_count": 17,
   "metadata": {},
   "outputs": [
    {
     "data": {
      "image/png": "[encoded data removed]",
      "text/plain": [
       "<Figure size 432x288 with 1 Axes>"
      ]
     },
     "metadata": {
      "needs_background": "light"
     },
     "output_type": "display_data"
    }
   ],
   "source": [
    "t, r, theta, phi = sol[:,0,0], sol[:,0,1], sol[:,0,2], sol[:,0,3]\n",
    "x = r * np.sin(theta) * np.cos(phi)\n",
    "y = r * np.sin(theta) * np.sin(phi)\n",
    "z = r * np.cos(theta)\n",
    "\n",
    "\n",
    "t, r, theta, phi = sol2[:,0,0], sol2[:,0,1], sol2[:,0,2], sol2[:,0,3]\n",
    "\n",
    "x2 = r * np.sin(theta) * np.cos(phi)\n",
    "y2 = r * np.sin(theta) * np.sin(phi)\n",
    "z2 = r * np.cos(theta)\n",
    "\n",
    "xs, ys, zs = [x,x2], [y,y2], [z,z2]\n",
    "\n",
    "\n",
    "plot_trajectory(xs,ys,zs,Param, title=\"Orbits using different methods\")"
   ]
  },
  {
   "cell_type": "markdown",
   "metadata": {},
   "source": [
    "## Use gravitomagnetic 1.5PN metric for binary black holes"
   ]
  },
  {
   "cell_type": "markdown",
   "metadata": {},
   "source": [
    "### Get orbit of standard circularized binaries"
   ]
  },
  {
   "cell_type": "code",
   "execution_count": 1,
   "metadata": {},
   "outputs": [],
   "source": [
    "from FANTASY import *\n",
    "\n",
    "import numpy as np\n",
    "import matplotlib.pyplot as plt\n",
    "from scipy.integrate import solve_ivp\n",
    "import sympy as sp\n",
    "\n",
    "from mpl_toolkits.mplot3d import Axes3D\n",
    "from matplotlib import animation\n",
    "\n",
    "G = c = M = 1\n",
    "a = 0.2"
   ]
  },
  {
   "cell_type": "code",
   "execution_count": 2,
   "metadata": {},
   "outputs": [],
   "source": [
    "# Assume cirular orbits a = - omega^2 x, with omega = v/r = sqrt(M/r^3)\n",
    "\n",
    "r = 1.\n",
    "omega = np.sqrt(M/r**3) # angular velocity, give higher order PN expansion later\n",
    "\n",
    "N = 10\n",
    "T = 2 * np.pi * omega\n",
    "delta = T / N\n",
    "t = np.linspace(0, T, N)\n",
    "\n",
    "\n",
    "# Define trajectory of the two binaries\n",
    "r1 = np.array([r * np.cos(omega * t), r * np.sin(omega * t), 0 * t]).T\n",
    "r2 = np.array([r * np.cos(omega * t + np.pi), r * np.sin(omega * t + np.pi), 0 * t]).T\n",
    "\n",
    "# Get velocities of the two binaries\n",
    "v1 = np.array([-r * omega * np.sin(omega * t), r * omega * np.cos(omega * t), 0 * t]).T\n",
    "v2 = np.array([-r * omega * np.sin(omega * t + np.pi), r * omega * np.cos(omega * t + np.pi), 0 * t]).T\n",
    "\n",
    "# Calculate relative position and velocity of binaries\n",
    "r12 = r1 - r2\n",
    "n12 = r12 / r\n",
    "R12 = np.linalg.norm(r12, axis=1)\n",
    "v12 = v1 - v2\n",
    "V12 = np.linalg.norm(v12, axis=1)"
   ]
  },
  {
   "cell_type": "markdown",
   "metadata": {},
   "source": [
    "### Add new metric\n",
    "From \"Inspiralling, Non-Precessing, Spinning Black Hole Binary Spacetime\n",
    "via Asymptotic Matching\" - by Ireland et al. 2016"
   ]
  },
  {
   "cell_type": "code",
   "execution_count": 3,
   "metadata": {},
   "outputs": [],
   "source": [
    "# Param = [r3, m1, m2, r1, r2, r12, v1, v2, v12, S1, S2]\n",
    "# Coord = [t, x, y, z]\n",
    "\n",
    "from numpy.linalg import norm as mag\n",
    "\n",
    "def g00(Param,Coord):\n",
    "        \n",
    "    r3 = Param[0]                                               # Position vector of orbiting particle\n",
    "    m1, m2, S1, S2 = Param[1], Param[2], Param[9], Param[10]    # Masses and spins of binary BHs\n",
    "    r1, r2, r12 = Param[3], Param[4], Param[5]                  # Position vectors of binary BHs\n",
    "    v1, v2, v12 = Param[6], Param[7], Param[8]                  # Velocities of binary BHs\n",
    "    n12 = r12/mag(r12)                                          # Unit vector pointing from m1 to m2\n",
    "    \n",
    "    # r1 should actually be displacement from body 1 to particle\n",
    "    r1 = r3 - r1\n",
    "    r2 = r3 - r2\n",
    "    n1, n2 = r1/mag(r1), r2/mag(r2)\n",
    "    \n",
    "    term1 = -1 + 2*m1/mag(r1) + 2*m2/mag(r2)  - 2*m1**2/mag(r2)**2 - 2* m2**2/mag(r1)**2\n",
    "    term2 = m1/mag(r1) * (4*mag(v1)**2-np.dot(v1,v1)**2) + m2/mag(r2) * (4*mag(v2)**2-np.dot(v2,v2))\n",
    "    term3a = -m1*m2*(2/(mag(r1)*mag(r2)) + mag(r1)/(2*mag(r12)**2)-mag(r1)**3 / (2*mag(r2)*mag(r12)**3)+ 5 / (2*mag(r1)*mag(r12)))\n",
    "    term3b = -m2*m1*(2/(mag(r1)*mag(r2)) + mag(r2)/(2*mag(r12)**2)-mag(r2)**3 / (2*mag(r1)*mag(r12)**3)+ 5 / (2*mag(r1)*mag(r12)))\n",
    "    term4 = 4*m1*m2/(3*mag(r12)**2) * np.dot(n12, v12) + 4*m2*m1/(3*mag(r12)**2) * np.dot(n12, v12)\n",
    "    term5 = 4/mag(r1)**2 * np.dot(v1, np.cross(S1, n1)) + 4/mag(r2)**2 * np.dot(v2, np.cross(S2, n2))\n",
    "    \n",
    "    return term1 + term2 + term3a + term3b + term4 + term5\n",
    "\n",
    "\n",
    "def g11(Param,Coord):\n",
    "    r3 = Param[0]\n",
    "    m1, m2 = Param[1], Param[2]\n",
    "    r1, r2 = Param[3], Param[4]\n",
    "    \n",
    "    r1 = mag(r3 - r1)\n",
    "    r2 = mag(r3 - r2)\n",
    "    \n",
    "    return (1 + 2*m1/r1 + 2*m2/r2)\n",
    "\n",
    "\n",
    "def g22(Param,Coord):\n",
    "    r3 = Param[0]\n",
    "    m1, m2 = Param[1], Param[2]\n",
    "    r1, r2 = Param[3], Param[4]\n",
    "    \n",
    "    r1 = mag(r3 - r1)\n",
    "    r2 = mag(r3 - r2)\n",
    "    \n",
    "    return (1 + 2*m1/r1 + 2*m2/r2)\n",
    "    \n",
    "def g33(Param,Coord):\n",
    "    r3 = Param[0]\n",
    "    m1, m2 = Param[1], Param[2]\n",
    "    r1, r2 = Param[3], Param[4]\n",
    "    \n",
    "    r1 = mag(r3 - r1)\n",
    "    r2 = mag(r3 - r2)\n",
    "    \n",
    "    return (1 + 2*m1/r1 + 2*m2/r2)\n",
    "\n",
    "# Off-diagonal components of the metric\n",
    "def g01(Param,Coord):\n",
    "    r3 = Param[0]\n",
    "    m1, m2, S1, S2 = Param[1], Param[2], Param[9], Param[10]    # Masses and spins of binary BHs\n",
    "    r1, r2, r12 = Param[3], Param[4], Param[5]                  # Position vectors of binary BHs\n",
    "    v1, v2, v12 = Param[6], Param[7], Param[8]                  # Velocities of binary BHs\n",
    "    r1 = r3 - r1\n",
    "    r2 = r3 - r2\n",
    "    n1, n2, n12 = r1/mag(r1), r2/mag(r2), r12/mag(r12)\n",
    "    \n",
    "    term1 = -4*m1/mag(r1) * v1[0] - 4*m2/mag(r2) * v1[0]\n",
    "    term2 = -2/mag(r1)**2 * np.cross(S1, n1)[0] - 2/mag(r2)**2 * np.cross(S2, n2)[0]\n",
    "    \n",
    "    return term1 + term2\n",
    "    \n",
    "def g02(Param,Coord):\n",
    "    r3 = Param[0]\n",
    "    m1, m2, S1, S2 = Param[1], Param[2], Param[9], Param[10]    # Masses and spins of binary BHs\n",
    "    r1, r2, r12 = Param[3], Param[4], Param[5]                  # Position vectors of binary BHs\n",
    "    v1, v2, v12 = Param[6], Param[7], Param[8]                  # Velocities of binary BHs\n",
    "    r1 = r3 - r1\n",
    "    r2 = r3 - r2\n",
    "    n1, n2, n12 = r1/mag(r1), r2/mag(r2), r12/mag(r12)\n",
    "\n",
    "    \n",
    "    term1 = -4*m1/mag(r1) * v1[1] - 4*m2/mag(r2) * v1[1]\n",
    "    term2 = -2/mag(r1)**2 * np.cross(S1, n1)[1] - 2/mag(r2)**2 * np.cross(S2, n2)[1]\n",
    "    \n",
    "    return term1 + term2\n",
    "\n",
    "def g03(Param,Coord):\n",
    "    r3 = Param[0]\n",
    "    m1, m2, S1, S2 = Param[1], Param[2], Param[9], Param[10]    # Masses and spins of binary BHs\n",
    "    r1, r2, r12 = Param[3], Param[4], Param[5]                  # Position vectors of binary BHs\n",
    "    v1, v2, v12 = Param[6], Param[7], Param[8]                  # Velocities of binary BHs\n",
    "    r1 = r3 - r1\n",
    "    r2 = r3 - r2\n",
    "    n1, n2, n12 = r1/mag(r1), r2/mag(r2), r12/mag(r12)\n",
    "\n",
    "    \n",
    "    term1 = -4*m1/mag(r1) * v1[2] - 4*m2/mag(r2) * v1[2]\n",
    "    term2 = -2/mag(r1)**2 * np.cross(S1, n1)[2] - 2/mag(r2)**2 * np.cross(S2, n2)[2]\n",
    "    \n",
    "    return term1 + term2\n",
    "    \n",
    "def g12(Param,Coord):\n",
    "    return 0\n",
    "\n",
    "def g13(Param,Coord):\n",
    "    return 0\n",
    "\n",
    "def g23(Param,Coord):\n",
    "    return 0\n",
    "\n",
    "# Register the metrics as function in FANTASY\n",
    "metric_list = [\"g00\",\"g01\",\"g02\",\"g03\",\"g11\",\"g12\",\"g13\",\"g22\",\"g23\",\"g33\"]\n",
    "for metric in metric_list:\n",
    "    if metric in globals():\n",
    "        register_function(metric, globals()[metric])\n",
    "    else:\n",
    "        print(f\"No function named {metric} in global scope.\")\n"
   ]
  },
  {
   "cell_type": "markdown",
   "metadata": {},
   "source": [
    "### Run simulation"
   ]
  },
  {
   "cell_type": "code",
   "execution_count": 8,
   "metadata": {},
   "outputs": [
    {
     "ename": "KeyError",
     "evalue": "'r3'",
     "output_type": "error",
     "traceback": [
      "\u001b[1;31m---------------------------------------------------------------------------\u001b[0m",
      "\u001b[1;31mKeyError\u001b[0m                                  Traceback (most recent call last)",
      "\u001b[1;32m~\\AppData\\Local\\Temp\\ipykernel_12068\\1521285360.py\u001b[0m in \u001b[0;36m<cell line: 53>\u001b[1;34m()\u001b[0m\n\u001b[0;32m     52\u001b[0m \u001b[1;33m\u001b[0m\u001b[0m\n\u001b[0;32m     53\u001b[0m \u001b[1;32mfor\u001b[0m \u001b[0mparam\u001b[0m \u001b[1;32min\u001b[0m \u001b[0mParam_list\u001b[0m\u001b[1;33m:\u001b[0m\u001b[1;33m\u001b[0m\u001b[1;33m\u001b[0m\u001b[0m\n\u001b[1;32m---> 54\u001b[1;33m     \u001b[0mregister_parameter\u001b[0m\u001b[1;33m(\u001b[0m\u001b[0mparam\u001b[0m\u001b[1;33m,\u001b[0m \u001b[0mglobals\u001b[0m\u001b[1;33m(\u001b[0m\u001b[1;33m)\u001b[0m\u001b[1;33m[\u001b[0m\u001b[0mparam\u001b[0m\u001b[1;33m]\u001b[0m\u001b[1;33m)\u001b[0m\u001b[1;33m\u001b[0m\u001b[1;33m\u001b[0m\u001b[0m\n\u001b[0m",
      "\u001b[1;31mKeyError\u001b[0m: 'r3'"
     ]
    }
   ],
   "source": [
    "order = 2\n",
    "\n",
    "# Initial values - Coords = [t, x, y, z]\n",
    "q0 = [0., 0.0, 0.0, 0.]\n",
    "p0 = [1.0,0.0,0.0,0.0]\n",
    "\n",
    "# Parameter values\n",
    "r3_0 = q0[1:]\n",
    "m1 = 0.5\n",
    "m2 = M - m1\n",
    "r1_0 = r1[0,:]\n",
    "r2_0 = r2[0,:]\n",
    "r12_0 = r12[0,:]\n",
    "v1_0 = v1[0,:]\n",
    "v2_0 = v2[0,:]\n",
    "v12_0 = v12[0,:]\n",
    "S1 = np.array([0.,0.,0.1])\n",
    "S2 = np.array([0.,0.,0.1])\n",
    "\n",
    "Param = [r3_0, m1, m2, r1_0, r2_0, r12_0, v1_0, v2_0, v12_0, S1, S2]\n",
    "\n",
    "# Define function to update the parameters in \"param\"\n",
    "def update_param(result, Param, index):\n",
    "    \n",
    "    # Update the position of the particle, based on integrators input\n",
    "    r3 = result\n",
    "        \n",
    "    # Update the positions and velocities of binaries, based on stored array of values calculated beforehand\n",
    "    r1 = r1[index, :]\n",
    "    r2 = r2[index, :]\n",
    "    r12 = r12[index, :]\n",
    "    v1 = v1[index, :]\n",
    "    v2 = v2[index, :]\n",
    "    v12 = v12[index, :]\n",
    "    \n",
    "    # Update this infromation in the parameter array\n",
    "    Param[0] = r3\n",
    "    Param[3] = r1\n",
    "    Param[4] = r2\n",
    "    Param[5] = r12\n",
    "    Param[6] = v1\n",
    "    Param[7] = v2\n",
    "    Param[8] = v12\n",
    "    \n",
    "    return Param\n",
    "    \n",
    "# Register this function, to allow FANTASY to update the parameters\n",
    "register_function(\"update_param\", globals()[\"update_param\"])\n",
    "\n",
    "# Make parameters accessible to FANTASY\n",
    "Param_list = [\"r3\", \"m1\", \"m2\", \"r1\", \"r2\", \"r12\", \"v1\", \"v2\", \"v12\", \"S1\", \"S2\"]\n",
    "\n",
    "for param in Param_list:\n",
    "    register_parameter(param, globals()[param])"
   ]
  },
  {
   "cell_type": "code",
   "execution_count": 1,
   "metadata": {},
   "outputs": [
    {
     "ename": "NameError",
     "evalue": "name 'geodesic_integrator' is not defined",
     "output_type": "error",
     "traceback": [
      "\u001b[1;31m---------------------------------------------------------------------------\u001b[0m",
      "\u001b[1;31mNameError\u001b[0m                                 Traceback (most recent call last)",
      "\u001b[1;32m~\\AppData\\Local\\Temp\\ipykernel_8164\\1207538350.py\u001b[0m in \u001b[0;36m<cell line: 3>\u001b[1;34m()\u001b[0m\n\u001b[0;32m      1\u001b[0m \u001b[1;31m# Run the simulation\u001b[0m\u001b[1;33m\u001b[0m\u001b[1;33m\u001b[0m\u001b[1;33m\u001b[0m\u001b[0m\n\u001b[0;32m      2\u001b[0m \u001b[1;33m\u001b[0m\u001b[0m\n\u001b[1;32m----> 3\u001b[1;33m \u001b[0msol\u001b[0m \u001b[1;33m=\u001b[0m \u001b[0mgeodesic_integrator\u001b[0m\u001b[1;33m(\u001b[0m\u001b[0mN\u001b[0m\u001b[1;33m,\u001b[0m\u001b[0mdelta\u001b[0m\u001b[1;33m,\u001b[0m\u001b[0momega\u001b[0m\u001b[1;33m,\u001b[0m\u001b[0mq0\u001b[0m\u001b[1;33m,\u001b[0m\u001b[0mp0\u001b[0m\u001b[1;33m,\u001b[0m\u001b[0mParam\u001b[0m\u001b[1;33m,\u001b[0m\u001b[0morder\u001b[0m\u001b[1;33m,\u001b[0m\u001b[0mupdate_parameters\u001b[0m\u001b[1;33m=\u001b[0m\u001b[1;32mTrue\u001b[0m\u001b[1;33m)\u001b[0m\u001b[1;33m\u001b[0m\u001b[1;33m\u001b[0m\u001b[0m\n\u001b[0m\u001b[0;32m      4\u001b[0m \u001b[1;33m\u001b[0m\u001b[0m\n\u001b[0;32m      5\u001b[0m \u001b[1;31m# Get the position and momentum of the particle in the first phase space\u001b[0m\u001b[1;33m\u001b[0m\u001b[1;33m\u001b[0m\u001b[1;33m\u001b[0m\u001b[0m\n",
      "\u001b[1;31mNameError\u001b[0m: name 'geodesic_integrator' is not defined"
     ]
    }
   ],
   "source": [
    "# Run the simulation\n",
    "\n",
    "sol = geodesic_integrator(N,delta,omega,q0,p0,Param,order,update_parameters=True)\n",
    "\n",
    "# Get the position and momentum of the particle in the first phase space\n",
    "sol = np.array(sol[1:])\n",
    "qs = sol[:,0,:]\n",
    "ps = sol[:,1,:]\n",
    "\n",
    "x, y, z = qs[:,1], qs[:,2], qs[:,3]"
   ]
  },
  {
   "cell_type": "code",
   "execution_count": 10,
   "metadata": {},
   "outputs": [
    {
     "ename": "NameError",
     "evalue": "name 'x' is not defined",
     "output_type": "error",
     "traceback": [
      "\u001b[1;31m---------------------------------------------------------------------------\u001b[0m",
      "\u001b[1;31mNameError\u001b[0m                                 Traceback (most recent call last)",
      "\u001b[1;32m~\\AppData\\Local\\Temp\\ipykernel_12068\\1248174557.py\u001b[0m in \u001b[0;36m<cell line: 5>\u001b[1;34m()\u001b[0m\n\u001b[0;32m      3\u001b[0m \u001b[0mfig\u001b[0m \u001b[1;33m=\u001b[0m \u001b[0mplt\u001b[0m\u001b[1;33m.\u001b[0m\u001b[0mfigure\u001b[0m\u001b[1;33m(\u001b[0m\u001b[1;33m)\u001b[0m\u001b[1;33m\u001b[0m\u001b[1;33m\u001b[0m\u001b[0m\n\u001b[0;32m      4\u001b[0m \u001b[0max\u001b[0m \u001b[1;33m=\u001b[0m \u001b[0mfig\u001b[0m\u001b[1;33m.\u001b[0m\u001b[0madd_subplot\u001b[0m\u001b[1;33m(\u001b[0m\u001b[1;36m111\u001b[0m\u001b[1;33m,\u001b[0m \u001b[0mprojection\u001b[0m\u001b[1;33m=\u001b[0m\u001b[1;34m'3d'\u001b[0m\u001b[1;33m)\u001b[0m\u001b[1;33m\u001b[0m\u001b[1;33m\u001b[0m\u001b[0m\n\u001b[1;32m----> 5\u001b[1;33m \u001b[0max\u001b[0m\u001b[1;33m.\u001b[0m\u001b[0mplot\u001b[0m\u001b[1;33m(\u001b[0m\u001b[0mx\u001b[0m\u001b[1;33m,\u001b[0m\u001b[0my\u001b[0m\u001b[1;33m,\u001b[0m\u001b[0mz\u001b[0m\u001b[1;33m,\u001b[0m \u001b[0mlabel\u001b[0m\u001b[1;33m=\u001b[0m\u001b[1;34m\"Particle\"\u001b[0m\u001b[1;33m)\u001b[0m\u001b[1;33m\u001b[0m\u001b[1;33m\u001b[0m\u001b[0m\n\u001b[0m\u001b[0;32m      6\u001b[0m \u001b[0max\u001b[0m\u001b[1;33m.\u001b[0m\u001b[0mset_xlabel\u001b[0m\u001b[1;33m(\u001b[0m\u001b[1;34m\"x\"\u001b[0m\u001b[1;33m)\u001b[0m\u001b[1;33m\u001b[0m\u001b[1;33m\u001b[0m\u001b[0m\n\u001b[0;32m      7\u001b[0m \u001b[0max\u001b[0m\u001b[1;33m.\u001b[0m\u001b[0mset_ylabel\u001b[0m\u001b[1;33m(\u001b[0m\u001b[1;34m\"y\"\u001b[0m\u001b[1;33m)\u001b[0m\u001b[1;33m\u001b[0m\u001b[1;33m\u001b[0m\u001b[0m\n",
      "\u001b[1;31mNameError\u001b[0m: name 'x' is not defined"
     ]
    },
    {
     "data": {
      "image/png": "[encoded data removed]",
      "text/plain": [
       "<Figure size 432x288 with 1 Axes>"
      ]
     },
     "metadata": {
      "needs_background": "light"
     },
     "output_type": "display_data"
    }
   ],
   "source": [
    "# 3D plot\n",
    "\n",
    "fig = plt.figure()\n",
    "ax = fig.add_subplot(111, projection='3d')\n",
    "ax.plot(x,y,z, label=\"Particle\")\n",
    "ax.set_xlabel(\"x\")\n",
    "ax.set_ylabel(\"y\")\n",
    "ax.set_zlabel(\"z\")\n",
    "\n",
    "\n",
    "ax.plot(r1[:,0], r1[:,1], r1[:,2], label='BH1', color=\"blue\")\n",
    "ax.plot(r2[:,0], r2[:,1], r2[:,2], label='BH2', color=\"red\")\n",
    "\n",
    "ax.legend()\n",
    "ax.set_xlim(-2,2)\n",
    "ax.set_ylim(-2, 2)\n",
    "ax.set_zlim(-2, 2)\n",
    "\n",
    "plt.show()"
   ]
  },
  {
   "cell_type": "code",
   "execution_count": null,
   "metadata": {},
   "outputs": [],
   "source": []
  }
 ],
 "metadata": {
  "kernelspec": {
   "display_name": "ISC505",
   "language": "python",
   "name": "python3"
  },
  "language_info": {
   "codemirror_mode": {
    "name": "ipython",
    "version": 3
   },
   "file_extension": ".py",
   "mimetype": "text/x-python",
   "name": "python",
   "nbconvert_exporter": "python",
   "pygments_lexer": "ipython3",
   "version": "3.8.13"
  },
  "orig_nbformat": 4
 },
 "nbformat": 4,
 "nbformat_minor": 2
}
