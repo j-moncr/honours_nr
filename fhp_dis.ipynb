{
 "cells": [
  {
   "cell_type": "code",
   "execution_count": 3,
   "metadata": {
    "collapsed": true
   },
   "outputs": [],
   "source": [
    "from numpy import *\n",
    "from scipy.optimize import fsolve\n"
   ]
  },
  {
   "cell_type": "code",
   "execution_count": 5,
   "outputs": [],
   "source": [
    "# set up constants\n",
    "bigg = (6.67384*10**-11)*((149.597871*10**9)**-3)*(1.98855*10**30)*((365.24*24.*3600.)**2)\n",
    "mass = 4.31*10**6 #smbh mass\n",
    "degtorad = pi/180.\n",
    "arcsectoau = degtorad*(1/3600.)*(2.06264806*10**8)*8.33\n",
    "time = linspace(0,1000,10000)\n",
    "speedoflight = ((pi*10**7)/(150.*10**9.))*3.*10**8\n"
   ],
   "metadata": {
    "collapsed": false
   }
  },
  {
   "cell_type": "code",
   "execution_count": null,
   "outputs": [],
   "source": [
    "#initialize data structures for radius and true anomaly:\n",
    "trueanomalymatrix=zeros((len(time),n))\n",
    "radiusmatrix=zeros((len(time),n))\n",
    "ellipse_xmatrix=zeros((len(time),n))\n",
    "ellipse_ymatrix=zeros((len(time),n))\n",
    "ellipse_zmatrix=zeros((len(time),n))\n",
    "\n",
    "for j in range(0,n):\n",
    "    inp = ([inc[j]*degtorad,asc[j]*degtorad,sma[j]*arcsectoau,\n",
    "            ecc[j],argp[j]*degtorad])\n"
   ],
   "metadata": {
    "collapsed": false
   }
  },
  {
   "cell_type": "code",
   "execution_count": null,
   "outputs": [],
   "source": [
    "meananomep = sqrt((bigg*(mass+15))/(inp[2]**3))*2000*degtorad #computes M(0)\n",
    "inp.append(meananomep) #inp[5]\n",
    "period = 2*pi*sqrt((inp[2]**3)/(bigg*mass)) #does what it says on the tin\n",
    "inp.append(period) #inp[6]\n",
    "\n",
    "# comment to remove precession effect\n",
    "precessionperperiod=(6.*pi*bigg*(mass+15.))/((speedoflight**2)*inp[2]*(1.-inp[3]**2))"
   ],
   "metadata": {
    "collapsed": false
   }
  },
  {
   "cell_type": "code",
   "execution_count": null,
   "outputs": [],
   "source": [
    "def meananomaly(ma,T,time):\n",
    "    #computes the mean anomaly as a function of time\n",
    "    return mod((ma+((2*pi)/T)*mod(time,T)),2*pi)\n",
    "meananom = meananomaly(inp[5],inp[6],time)"
   ],
   "metadata": {
    "collapsed": false
   }
  },
  {
   "cell_type": "code",
   "execution_count": null,
   "outputs": [],
   "source": [
    "eccenanom = []\n",
    "for i in meananom:\n",
    "    #computes eccentric anomaly from the mean anomaly\n",
    "    def func(ea,i,ec):\n",
    "        return ea - ec*sin(ea) - i\n",
    "    sol = fsolve(func,0,args=(i, inp[3]))\n",
    "    eccenanom.append(sol)\n"
   ],
   "metadata": {
    "collapsed": false
   }
  },
  {
   "cell_type": "code",
   "execution_count": null,
   "outputs": [],
   "source": [
    "eccenanom = []\n",
    "for i in meananom:\n",
    "    #computes eccentric anomaly from the mean anomaly\n",
    "    def func(ea,i,ec):\n",
    "        return ea - ec*sin(ea) - i\n",
    "    sol = fsolve(func,0,args=(i, inp[3]))\n",
    "    eccenanom.append(sol)\n"
   ],
   "metadata": {
    "collapsed": false
   }
  },
  {
   "cell_type": "code",
   "execution_count": null,
   "outputs": [],
   "source": [
    "trueanom = []\n",
    "for i in eccenanom:\n",
    "    #computes the true anomaly as a function of time\n",
    "\n",
    "    sol2 =-2*(arctan2(sqrt(1-inp[3])*cos(i/2),sqrt(1+inp[3])*sin(i/2)))+pi\n",
    "    trueanom.append(sol2)\n",
    "for i in range(0,len(trueanom)):\n",
    "    trueanomalymatrix[i][j]=trueanom[i]\n",
    "#plot(time,trueanom) to check (good)\n"
   ],
   "metadata": {
    "collapsed": false
   }
  },
  {
   "cell_type": "code",
   "execution_count": null,
   "outputs": [],
   "source": [
    "def ellipseinplane(a,e,th):\n",
    "    #computes the shape of the ellipse\n",
    "    return (a*(1-e**2))/(1+e*cos(th))\n",
    "r = []\n",
    "for i in trueanom:\n",
    "    #computes the position of orbiting body as a function of time\n",
    "    sol4 = ellipseinplane(inp[2],inp[3],i)\n",
    "    r.append(sol4)\n"
   ],
   "metadata": {
    "collapsed": false
   }
  },
  {
   "cell_type": "code",
   "execution_count": null,
   "outputs": [],
   "source": [
    "for i in range(0,len(r)):\n",
    "    radiusmatrix[i][j]=r[i]\n",
    "def ellipseinspacex(rad,trueanomaly,incl,ascn,argpe):\n",
    "    return rad*sin(trueanomaly)*(-cos(ascn)*sin(argpe)-...\n",
    "                                 cos(incl)*cos(argpe)*sin(ascn)) +\n",
    "    rad*cos(trueanomaly)*(cos(argpe)*cos(ascn)-\n",
    "                          cos(incl)*sin(argpe)*sin(ascn))\n",
    "def ellipseinspacey(rad,trueanomaly,incl,ascn,argpe):\n",
    "    return -rad*cos(trueanomaly)*(cos(incl)*cos(ascn)*sin(argpe)+\n",
    "                                      cos(argpe)*sin(ascn)) -\n",
    "    rad*sin(trueanomaly)*(cos(incl)*cos(argpe)*cos(ascn) -\n",
    "                          sin(argpe)*sin(ascn))\n",
    "\n",
    "def ellipseinspacez(rad,trueanomaly,incl,ascn,argpe):\n",
    "    return rad*cos(argpe)*sin(trueanomaly)*sin(incl) +\n",
    "    rad*cos(trueanomaly)*sin(incl)*sin(argpe)\n",
    "\n",
    "ellipse_x = []\n",
    "for i in range(0,len(r)):\n",
    "    sol5 = ellipseinspacex(r[i],trueanom[i],inp[0],inp[1],(inp[4]...\n",
    "                                                           #break here to remove precession in each coordinate\n",
    "                                                           +i*(precessionperperiod/(period/0.1))))\n",
    "ellipse_x.append(sol5)\n",
    "for i in range(0,len(r)):\n",
    "    ellipse_xmatrix[i][j]=ellipse_x[i]\n",
    "ellipse_y = []\n",
    "for i in range(0,len(r)):\n",
    "    sol5 = ellipseinspacey(r[i],trueanom[i],inp[0],inp[1],(inp[4]\n",
    "                                                           +i*(precessionperperiod/(period/0.1))))\n",
    "ellipse_y.append(sol5)\n",
    "for i in range(0,len(r)):\n",
    "    ellipse_ymatrix[i][j]=ellipse_y[i]\n",
    "ellipse_z = []\n",
    "for i in range(0,len(r)):\n",
    "    sol5 = ellipseinspacez(r[i],trueanom[i],inp[0],inp[1],(inp[4]\n",
    "                                                           +i*(precessionperperiod/(period/0.1))))\n",
    "ellipse_z.append(sol5)\n",
    "for i in range(0,len(r)):\n",
    "    ellipse_zmatrix[i][j]=ellipse_z[i]\n"
   ],
   "metadata": {
    "collapsed": false
   }
  },
  {
   "cell_type": "code",
   "execution_count": null,
   "outputs": [],
   "source": [
    "# plots time series distance betweens tars\n",
    "distx = abs(ellipse_xmatrix[:,0]-ellipse_xmatrix[:,2])\n",
    "disty = abs(ellipse_ymatrix[:,0]-ellipse_ymatrix[:,2])\n",
    "distz = abs(ellipse_zmatrix[:,0]-ellipse_zmatrix[:,2])\n",
    "normvec = []\n",
    "for i in range(0,len(time)):\n",
    "    dist = sqrt((distx[i])**2+(disty[i])**2+(distz[i])**2)\n",
    "normvec.append(dist)"
   ],
   "metadata": {
    "collapsed": false
   }
  },
  {
   "cell_type": "code",
   "execution_count": null,
   "outputs": [],
   "source": [
    "fig = plt.figure()\n",
    "plt.plot(time,normvec)\n",
    "plt.xlabel(’t (yr)’)\n",
    "plt.ylabel(’r (AU)’)\n",
    "# <codecell>\n",
    "#plots trajectory in plane of sky\n",
    "fig2 = plt.figure()\n",
    "plt.plot(ellipse_ymatrix[:,3],ellipse_xmatrix[:,3],’b’)\n",
    "plt.xlabel(’r (AU)’)\n",
    "plt.ylabel(’r (AU)’)\n",
    "print \"done\"\n",
    "# <codecell>\n",
    "#histogram for close approaches.\n",
    "fig2 = plt.figure()\n",
    "plt.hist(dataminlist,bins=50,color=’blue’)\n",
    "fig2.suptitle(’Minimum separations of stars in S-population’)\n",
    "plt.xlabel(’Time (Yrs from Epoch2000)’)\n",
    "plt.ylabel(’Number of objects’)"
   ],
   "metadata": {
    "collapsed": false
   }
  },
  {
   "cell_type": "code",
   "execution_count": null,
   "outputs": [],
   "source": [
    "from random import uniform\n",
    "\n",
    "#randomly generates orbital parameters from a flat distribution.\n",
    "incsim = []\n",
    "smasim = []\n",
    "eccsim = []\n",
    "argpsim = []\n",
    "ascsim = []\n",
    "for i in range(0,1000): #choose number of objects to simulate\n",
    "    incsim.append(uniform(min(inc),max(inc)))\n",
    "smasim.append(uniform(min(sma),max(sma)))\n",
    "eccsim.append(uniform(min(ecc),max(ecc)))\n",
    "argpsim.append(uniform(min(argp),max(argp)))\n",
    "ascsim.append(uniform(min(asc),max(asc)))"
   ],
   "metadata": {
    "collapsed": false
   }
  },
  {
   "cell_type": "code",
   "execution_count": 7,
   "outputs": [
    {
     "ename": "IndentationError",
     "evalue": "expected an indented block (1042141977.py, line 21)",
     "output_type": "error",
     "traceback": [
      "\u001B[1;36m  Cell \u001B[1;32mIn[7], line 21\u001B[1;36m\u001B[0m\n\u001B[1;33m    ft2n = force(pos1n,pos2n,4.31*10**6)\u001B[0m\n\u001B[1;37m    ^\u001B[0m\n\u001B[1;31mIndentationError\u001B[0m\u001B[1;31m:\u001B[0m expected an indented block\n"
     ]
    }
   ],
   "source": [
    "# 2 body script\n",
    "star1positionxn=[]\n",
    "star1positionyn=[]\n",
    "star2positionxn=[]\n",
    "star2positionyn=[]\n",
    "# <codecell>\n",
    "countn = 0\n",
    "dtn = .001\n",
    "# initial positions\n",
    "pos2n = star_1[0]\n",
    "pos3n = star_2[0]\n",
    "star1positionxn.append(pos2n[0])\n",
    "star1positionyn.append(pos2n[1])\n",
    "star2positionxn.append(pos3n[0])\n",
    "star2positionyn.append(pos3n[1])\n",
    "# initial velocities\n",
    "vel2n = velocity_star1[0]\n",
    "vel3n = velocity_star2[0]\n",
    "while countn<1000000:\n",
    "#star1\n",
    "ft2n = force(pos1n,pos2n,4.31*10**6)\n",
    "pos2n = pos2n+(vel2n*dtn)+((ft2n/2.)*dtn**2)\n",
    "ftdt2n = force(pos1n,pos2n,4.31*10**6)\n",
    "vel2n = vel2n+((dtn/2.)*(ft2n+ftdt2n))\n",
    "star1positionxn.append(pos2n[0])\n",
    "star1positionyn.append(pos2n[1])\n",
    "#star2\n",
    "ft3n = force(pos1n,pos3n,4.31*10**6)\n",
    "pos3n = pos3n+(vel3n*dtn)+(ft3n/2.)*dtn**2\n",
    "ftdt3n = force(pos1n,pos3n,4.31*10**6)\n",
    "vel3n = vel3n+(dtn/2.)*(ft3n+ftdt3n)\n",
    "star2positionxn.append(pos3n[0])\n",
    "star2positionyn.append(pos3n[1])\n",
    "countn = countn+1\n",
    "# 3 body script\n",
    "star1positionx=[]\n",
    "star1positiony=[]\n",
    "star2positionx=[]\n",
    "star2positiony=[]\n",
    "# <codecell>\n",
    "count = 0\n",
    "dt = .001\n",
    "# initial positions\n",
    "pos2 = star_1[0]\n",
    "pos3 = star_2[0]\n",
    "star1positionx.append(pos2[0])\n",
    "star1positiony.append(pos2[1])\n",
    "star2positionx.append(pos3[0])\n",
    "star2positiony.append(pos3[1])\n",
    "# initial velocities\n",
    "vel2 = velocity_star1[0]\n",
    "vel3 = velocity_star2[0]\n",
    "\n",
    "\n",
    "while count<1000000:\n",
    "#star1\n",
    "ft2 = force(pos1,pos2,4.31*10**6)+force(pos3,pos2,15.)\n",
    "pos2 = pos2+(vel2*dt)+((ft2/2.)*dt**2)\n",
    "ftdt2 = force(pos1,pos2,4.31*10**6)+force(pos3,pos2,15.)\n",
    "vel2 = vel2+((dt/2.)*(ft2+ftdt2))\n",
    "star1positionx.append(pos2[0])\n",
    "star1positiony.append(pos2[1])\n",
    "#star2\n",
    "ft3 = force(pos1,pos3,4.31*10**6)+force(pos2,pos3,15.)\n",
    "pos3 = pos3+(vel3*dt)+(ft3/2.)*dt**2\n",
    "ftdt3 = force(pos1,pos3,4.31*10**6)+force(pos2,pos3,15.)\n",
    "vel3 = vel3+(dt/2.)*(ft3+ftdt3)\n",
    "star2positionx.append(pos3[0])\n",
    "star2positiony.append(pos3[1])\n",
    "count = count+1\n",
    "\n",
    "\n",
    "posx1 = asarray(star1positionx)\n",
    "posx1n = asarray(star1positionxn)\n",
    "posy1 = asarray(star1positiony)\n",
    "posy1n = asarray(star1positionyn)\n",
    "posx2 = asarray(star2positionx)\n",
    "posx2n = asarray(star2positionxn)\n",
    "posy2 = asarray(star2positiony)\n",
    "posy2n = asarray(star2positionyn)\n",
    "st1mod = sqrt((posx1-posx1n)**2+(posy1-posy1n)**2)\n",
    "for i in st1mod:\n",
    "    if i>50:\n",
    "    print ’star 1 detected’\n",
    "break\n",
    "\n",
    "    st2mod = sqrt((posx2-posx2n)**2+(posy2-posy2n)**2)\n",
    "    for i in st2mod:\n",
    "        if i>50:\n",
    "        print ’star 2 detected’\n",
    "    break\n"
   ],
   "metadata": {
    "collapsed": false
   }
  },
  {
   "cell_type": "code",
   "execution_count": null,
   "outputs": [],
   "source": [],
   "metadata": {
    "collapsed": false
   }
  }
 ],
 "metadata": {
  "kernelspec": {
   "display_name": "Python 3",
   "language": "python",
   "name": "python3"
  },
  "language_info": {
   "codemirror_mode": {
    "name": "ipython",
    "version": 2
   },
   "file_extension": ".py",
   "mimetype": "text/x-python",
   "name": "python",
   "nbconvert_exporter": "python",
   "pygments_lexer": "ipython2",
   "version": "2.7.6"
  }
 },
 "nbformat": 4,
 "nbformat_minor": 0
}
