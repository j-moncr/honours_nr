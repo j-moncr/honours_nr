{
 "cells": [
  {
   "cell_type": "code",
   "execution_count": 20,
   "outputs": [],
   "source": [
    "%matplotlib inline"
   ],
   "metadata": {
    "collapsed": false,
    "ExecuteTime": {
     "start_time": "2023-04-02T22:35:00.434143Z",
     "end_time": "2023-04-02T22:35:00.474863Z"
    }
   }
  },
  {
   "cell_type": "code",
   "execution_count": 30,
   "metadata": {
    "collapsed": true,
    "ExecuteTime": {
     "start_time": "2023-04-02T22:36:00.472879Z",
     "end_time": "2023-04-02T22:36:00.502038Z"
    }
   },
   "outputs": [],
   "source": [
    "import numpy as np\n",
    "import matplotlib.pyplot as plt\n",
    "from mpl_toolkits.mplot3d import Axes3D\n",
    "from scipy.integrate import solve_ivp\n",
    "\n",
    "from particle_orbits.kerr_geodesics import *\n",
    "\n",
    "# Constants of motion\n",
    "G = c = M = 1.0\n",
    "a = 0.0\n"
   ]
  },
  {
   "cell_type": "markdown",
   "source": [
    "69.818 x 10^6 km is Mercuries distance\n",
    "\n",
    "[L] = 7.43e-28 m/kg, so for M = 1 = 1 solar mass $\\implies$ 1.49km per unit distance\n",
    "$\\implies$ 45 x 10^6 units distance\n",
    "\n",
    "Min orbital velocity is 39km/s. Since c = 3x10^8 m/s=1 $\\implies$ 39x10^3km/s = 0.00013\n",
    "\n",
    "[T] = G/c^3 = 2.5e-36 s/kg, T = 2.5e-36 s/kg * 2e30 kg = 5e-6 s per unit time, hence 1 year is 3.15e7 / 5e-6 = 6.3e11 units of time"
   ],
   "metadata": {
    "collapsed": false
   }
  },
  {
   "cell_type": "code",
   "execution_count": 37,
   "outputs": [],
   "source": [
    "    # Initial conditions, for massive particle circular orbit about a Schwarzschild (spin=0) black hole\n",
    "r0 = 45.e6\n",
    "theta0 = np.pi/2\n",
    "phi0 = 0.0\n",
    "t_prime_0 = 0.0\n",
    "p_r0 = 0.0\n",
    "p_theta0 = 0.02\n",
    "\n",
    "# Constants of motion\n",
    "G = c = M = 1.0\n",
    "a = 0.0\n",
    "\n",
    "# See notebook for derivation of these constants\n",
    "L = p_theta0\n",
    "L = 100\n",
    "E = -np.sqrt((1-2*M/r0)*(1+(L/r0)**2))\n",
    "E = 1e4\n",
    "Q = 0\n",
    "H = -1.0       # Massive particle\n",
    "\n",
    "params = (M, a, L, E, Q, H)\n",
    "\n",
    "y0 = [r0, theta0, phi0, t_prime_0, p_r0, p_theta0]\n",
    "\n",
    "# Time\n",
    "T = 1e12\n",
    "dt = 1e4\n",
    "t_span = [0.0, T]\n",
    "t = np.arange(0.0, T, dt)\n",
    "\n",
    "x, y, z = solve_EOM(t_span, y0, params, t)\n",
    "\n",
    "plot_trajectory(x, y, z, params)\n",
    "\n"
   ],
   "metadata": {
    "collapsed": false,
    "ExecuteTime": {
     "start_time": "2023-04-02T22:32:48.674724Z",
     "end_time": "2023-04-02T22:33:38.991513Z"
    }
   }
  },
  {
   "cell_type": "code",
   "execution_count": 34,
   "outputs": [],
   "source": [
    "plot_trajectory([], [], [], params)\n"
   ],
   "metadata": {
    "collapsed": false,
    "ExecuteTime": {
     "start_time": "2023-04-02T22:39:31.507584Z",
     "end_time": "2023-04-02T22:39:31.718364Z"
    }
   }
  },
  {
   "cell_type": "code",
   "execution_count": null,
   "outputs": [],
   "source": [],
   "metadata": {
    "collapsed": false
   }
  }
 ],
 "metadata": {
  "kernelspec": {
   "display_name": "Python 3",
   "language": "python",
   "name": "python3"
  },
  "language_info": {
   "codemirror_mode": {
    "name": "ipython",
    "version": 2
   },
   "file_extension": ".py",
   "mimetype": "text/x-python",
   "name": "python",
   "nbconvert_exporter": "python",
   "pygments_lexer": "ipython2",
   "version": "2.7.6"
  }
 },
 "nbformat": 4,
 "nbformat_minor": 0
}
