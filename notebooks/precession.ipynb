{
 "cells": [
  {
   "cell_type": "code",
   "execution_count": 7,
   "outputs": [
    {
     "name": "stdout",
     "output_type": "stream",
     "text": [
      "Collecting gravipy\n",
      "  Downloading GraviPy-0.2.0-py3-none-any.whl (10 kB)\n",
      "Requirement already satisfied: sympy>=1.4 in c:\\users\\jmonc\\hon_code\\venv\\lib\\site-packages (from gravipy) (1.11.1)\n",
      "Requirement already satisfied: mpmath>=0.19 in c:\\users\\jmonc\\hon_code\\venv\\lib\\site-packages (from sympy>=1.4->gravipy) (1.3.0)\n",
      "Installing collected packages: gravipy\n",
      "Successfully installed gravipy-0.2.0\n",
      "Note: you may need to restart the kernel to use updated packages.\n"
     ]
    }
   ],
   "source": [
    "%pip install gravipy"
   ],
   "metadata": {
    "collapsed": false
   }
  },
  {
   "cell_type": "code",
   "execution_count": 8,
   "metadata": {
    "collapsed": true
   },
   "outputs": [],
   "source": [
    "from gravipy.tensorial import *\n",
    "from sympy import *\n",
    "from itertools import product\n",
    "from sympy.utilities.lambdify import lambdify\n",
    "import numpy as np"
   ]
  },
  {
   "cell_type": "code",
   "execution_count": 9,
   "outputs": [],
   "source": [
    "t, r, theta, phi, M = symbols('t, r, theta, phi, M')\n",
    "chi = Coordinates('\\chi', [t, r, theta, phi])\n",
    "Metric = diag(-(1-2*M/r), 1/(1-2*M/r), r**2, r**2*sin(theta)**2)  #Schwarzschild計量\n",
    "g = MetricTensor('g', chi, Metric)\n",
    "Ga = Christoffel('Ga', g)"
   ],
   "metadata": {
    "collapsed": false
   }
  },
  {
   "cell_type": "code",
   "execution_count": 10,
   "outputs": [],
   "source": [
    "from itertools import product\n",
    "var(\"v_0, v_1, v_2, v_3\")\n",
    "var(\"a_0, a_1, a_2, a_3\")\n",
    "a_list = [a_0, a_1, a_2, a_3]\n",
    "v_list = [v_0, v_1, v_2, v_3]\n",
    "for i in range(4):\n",
    "    a_list[i] = 0\n",
    "\n",
    "for i, j, k in product(range(4), repeat=3):\n",
    "    a_list[i] -= Ga( -i-1, j + 1, k + 1)*v_list[j]*v_list[k]\n",
    "\n",
    "a_func = lambdify((t, r, theta, phi, M, v_0, v_1, v_2, v_3), a_list)\n",
    "a = lambda x, v: np.array(a_func(x[0], x[1], x[2], x[3], 1, v[0], v[1], v[2], v[3]))\n",
    "\n",
    "N = 10**5\n",
    "\n",
    "x = np.array([0.0, 17.32050808,  0.95531662, -0.78539816])\n",
    "v = np.array([1, -0.02886728, -0.00824957,  0.01750001])\n",
    "\n",
    "dlam = 0.1\n",
    "R = []\n",
    "Theta = []\n",
    "Phi = []\n",
    "T = []\n",
    "for _ in range(N):\n",
    "    T.append(x[0])\n",
    "    R.append(x[1])\n",
    "    Theta.append(x[2])\n",
    "    Phi.append(x[3])\n",
    "    k1v = a(x, v)*dlam\n",
    "    k1x = v*dlam\n",
    "    k2v = a(x+k1x/2, v+k1v/2)*dlam\n",
    "    k2x = (v+k1v/2)*dlam\n",
    "    k3v = a(x+k2x/2, v+k2v/2)*dlam\n",
    "    k3x = (v+k2v/2)*dlam\n",
    "    k4v = a(x+k3x, v+k3v)*dlam\n",
    "    k4x = (v+k3v)*dlam\n",
    "    v = v + (1/6)*(k1v+2*k2v+2*k3v+k4v)\n",
    "    x = x + (1/6)*(k1x+2*k2x+2*k3x+k4x)\n",
    "X = R*np.cos(Phi)*np.sin(Theta)\n",
    "Y = R*np.sin(Phi)*np.sin(Theta)\n",
    "Z = R*np.cos(Theta)"
   ],
   "metadata": {
    "collapsed": false
   }
  },
  {
   "cell_type": "code",
   "execution_count": 11,
   "outputs": [],
   "source": [
    "dt = 10 #時間幅\n",
    "T_new = np.arange(0, T[-1], dt)\n",
    "X_new = np.interp(T_new, T, X)\n",
    "Y_new = np.interp(T_new, T, Y)\n",
    "Z_new = np.interp(T_new, T, Z)"
   ],
   "metadata": {
    "collapsed": false
   }
  },
  {
   "cell_type": "code",
   "execution_count": 19,
   "outputs": [],
   "source": [
    "%matplotlib nbagg\n",
    "import matplotlib.pyplot as plt\n",
    "from mpl_toolkits.mplot3d import Axes3D\n",
    "import matplotlib.animation as animation\n",
    "\n",
    "fig = plt.figure()\n",
    "ax = fig.add_subplot(111, projection=\"3d\")\n",
    "L = 100\n",
    "def update(i):\n",
    "    ax.clear()\n",
    "    ax.scatter(0, 0, 0, marker=\"o\", c=\"orange\", s=100)\n",
    "    ax.plot(X_new[:i], Y_new[:i], Z_new[:i], c=\"black\", alpha = 0.4)\n",
    "    ax.scatter(X_new[i], Y_new[i], Z_new[i], marker=\"o\", c=\"blue\", s=10)\n",
    "    ax.set_title(r\"$t=$\"+str(int(T_new[i])))\n",
    "    ax.view_init(elev=30, azim=225)\n",
    "    ax.set_xlim(-L, L)\n",
    "    ax.set_ylim(-L, L)\n",
    "    ax.set_zlim(-L, L)\n",
    "\n",
    "ani = animation.FuncAnimation(fig, update, frames=len(T_new), interval=1)"
   ],
   "metadata": {
    "collapsed": false
   }
  },
  {
   "cell_type": "code",
   "execution_count": 15,
   "outputs": [],
   "source": [
    "# General imports\n",
    "from itertools import product\n",
    "import matplotlib\n",
    "import numba\n",
    "import numpy as np\n",
    "import matplotlib.pyplot as plt\n",
    "from IPython.display import display, Math\n",
    "\n",
    "# Basic imports and functions\n",
    "from sympy import latex, symbols, sin, cos, pi, simplify, lambdify, Matrix\n",
    "from scipy.integrate import solve_ivp\n",
    "\n",
    "\n",
    "\n",
    "from sympy.diffgeom import (\n",
    "    Manifold,\n",
    "    Patch,\n",
    "    CoordSystem,\n",
    "    metric_to_Christoffel_2nd,\n",
    "    TensorProduct as TP\n",
    ")\n",
    "\n",
    "def lprint(v):\n",
    "    display(Math(latex(v)))"
   ],
   "metadata": {
    "collapsed": false
   }
  },
  {
   "cell_type": "code",
   "execution_count": 16,
   "outputs": [],
   "source": [
    "# Create a manifold.\n",
    "M = Manifold('M', 4)\n",
    "\n",
    "# Create a patch.\n",
    "patch = Patch('P', M)\n",
    "\n",
    "# Basic symbols\n",
    "c, r_s = symbols('c r_s')\n",
    "\n",
    "# Coordinate system\n",
    "schwarzchild_coord = CoordSystem('schwarzchild', patch, ['t', 'r', 'theta', 'phi'])\n",
    "\n",
    "# Get the coordinate functions\n",
    "t, r, theta, phi = schwarzchild_coord.coord_functions()\n",
    "\n",
    "# Get the base one forms.\n",
    "dt, dr, dtheta, dphi = schwarzchild_coord.base_oneforms()\n",
    "\n",
    "# Auxiliar terms for the metric.\n",
    "dt_2 = TP(dt, dt)\n",
    "dr_2 = TP(dr, dr)\n",
    "dtheta_2 = TP(dtheta, dtheta)\n",
    "dphi_2 = TP(dphi, dphi)\n",
    "factor = (1 - r_s / r)\n",
    "\n",
    "# Build the metric\n",
    "metric = factor * c ** 2 * dt_2 - 1 / factor * dr_2 - r ** 2 * (dtheta_2 + sin(theta)**2 * dphi_2)\n",
    "metric = factor * c ** 2 * dt_2 - 1 / factor * dr_2 - r ** 2 * (dtheta_2 + sin(theta)**2 * dphi_2)\n",
    "metric = metric / c ** 2"
   ],
   "metadata": {
    "collapsed": false
   }
  },
  {
   "cell_type": "code",
   "execution_count": 17,
   "outputs": [],
   "source": [
    "# Get the Christoffel symbols of the second kind.\n",
    "christoffel = metric_to_Christoffel_2nd(metric)"
   ],
   "metadata": {
    "collapsed": false
   }
  },
  {
   "cell_type": "code",
   "execution_count": 18,
   "outputs": [],
   "source": [],
   "metadata": {
    "collapsed": false
   }
  }
 ],
 "metadata": {
  "kernelspec": {
   "display_name": "Python 3",
   "language": "python",
   "name": "python3"
  },
  "language_info": {
   "codemirror_mode": {
    "name": "ipython",
    "version": 2
   },
   "file_extension": ".py",
   "mimetype": "text/x-python",
   "name": "python",
   "nbconvert_exporter": "python",
   "pygments_lexer": "ipython2",
   "version": "2.7.6"
  }
 },
 "nbformat": 4,
 "nbformat_minor": 0
}
